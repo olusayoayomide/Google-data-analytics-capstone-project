{
 "cells": [
  {
   "cell_type": "markdown",
   "id": "575d66ff",
   "metadata": {
    "papermill": {
     "duration": 0.03603,
     "end_time": "2022-01-17T20:42:17.157552",
     "exception": false,
     "start_time": "2022-01-17T20:42:17.121522",
     "status": "completed"
    },
    "tags": []
   },
   "source": [
    "# Cyclistic Bike-Share Case Study\n",
    "\n",
    "**Author: Atanda Olusayo**\n",
    "\n",
    "**Last Modified: 1/17/2022**\n",
    "\n",
    "# Introduction\n",
    "This is a capstone project chosen to complete my Google Data Analytics certification. The Project is based on a bike-sharing data, it is a fictional data set. The name of the company is Cyclistics. Cyclistics is a bike-share program that features more than 5,800 bicycles and 600 docking stations. Cyclistic sets itself apart by also offering reclining bikes, hand tricycles, and cargo bikes, making bike-share more inclusive to people with disabilities and riders who can’t use a standard two-wheeled bike. The majority of riders opt for traditional bikes; about 8% of riders use the assistive options. Cyclistic users are more likely to ride for leisure, but about 30% use them to commute to work each day. The company has two categories of customers, the casual riders and annual subscription members. Customers who purchase single-ride or full-day passes are referred to as casual riders. Customers who purchase annual memberships are Cyclistic members.\n",
    "The Marketing manager believes the annual subscription members will be the future of the company based on the income gotten from their end. As a junior data analyst, the business task is to analyze the available data to see how Casual riders can be converted to Cyclistic members using the Ask, Prepare, Process, Analyze, Share and Act data Analysis Process.\n",
    "1.\tAsk Phase\n",
    "This Phase ask questions about the problem to be solved and what insight can be gotten from the available data to drive business insight.\n",
    "2.\tPrepare Phase\n",
    "In this phase the data will be checked for credibility, the integrity will be verified and the data merged. Ensure the data ROCCC i.e. Reliable, Original, Comprehensive, Current and Cited.\n",
    "3.\tProcess Phase\n",
    "In this phase the data will be cleaned and transformed. The cleaning and transformation process will be documented at this stage.\n",
    "4.\tAnalyze Phase\n",
    "This phase will help to identify patterns and trends, draw conclusions and make predictions\n",
    "5.\tShare Phase\n",
    "In this phase visuals will be created to showcase your findings about the data. Tell a compelling story about the data and share the insight with the stakeholders.\n",
    "6.\tAct Phase\n",
    "In this phase recommendations will be made based on insights from the data.\n",
    "\n",
    "\n",
    "# Ask Phase\n",
    "**Stakeholders:**\n",
    "- Director of marketing\n",
    "- Cyclistic executive team\n",
    "\n",
    "**Question assigned to me:**\n",
    "- How do annual members and casual riders use Cyclistic bikes differently?\n",
    "\n",
    "**Deliverables:**\n",
    "- Insights on how annual members and casual riders use Cyclistic bikes differently\n",
    "- Provide effective visuals and relevant data to support insights\n",
    "- Use insights to give three recommendations to convert casual riders to member riders \n",
    "\n",
    "\n",
    "# Prepare Phase\n",
    "**About the data for this analysis:**\n",
    "\n",
    "Since Cyclistic is a fictional company, I will use Divvy’s, a bike-share program based in Chicago, data from April 2020 – March 2021 to complete this case study. To download the data, please use this [link](https://divvy-tripdata.s3.amazonaws.com/index.html). This data was made public by Motivate International Inc, under this [license](https://www.divvybikes.com/data-license-agreement). Due to data privacy issues, personal information has been removed or encrypted. \n"
   ]
  },
  {
   "cell_type": "code",
   "execution_count": 1,
   "id": "95e46ff9",
   "metadata": {
    "_kg_hide-output": true,
    "execution": {
     "iopub.execute_input": "2022-01-17T20:42:17.233189Z",
     "iopub.status.busy": "2022-01-17T20:42:17.232473Z",
     "iopub.status.idle": "2022-01-17T20:42:18.881647Z",
     "shell.execute_reply": "2022-01-17T20:42:18.880408Z"
    },
    "papermill": {
     "duration": 1.689045,
     "end_time": "2022-01-17T20:42:18.881809",
     "exception": false,
     "start_time": "2022-01-17T20:42:17.192764",
     "status": "completed"
    },
    "tags": []
   },
   "outputs": [
    {
     "name": "stderr",
     "output_type": "stream",
     "text": [
      "── \u001b[1mAttaching packages\u001b[22m ─────────────────────────────────────── tidyverse 1.3.0 ──\n",
      "\n",
      "\u001b[32m✔\u001b[39m \u001b[34mggplot2\u001b[39m 3.3.3     \u001b[32m✔\u001b[39m \u001b[34mpurrr  \u001b[39m 0.3.4\n",
      "\u001b[32m✔\u001b[39m \u001b[34mtibble \u001b[39m 3.1.1     \u001b[32m✔\u001b[39m \u001b[34mdplyr  \u001b[39m 1.0.5\n",
      "\u001b[32m✔\u001b[39m \u001b[34mtidyr  \u001b[39m 1.1.3     \u001b[32m✔\u001b[39m \u001b[34mstringr\u001b[39m 1.4.0\n",
      "\u001b[32m✔\u001b[39m \u001b[34mreadr  \u001b[39m 1.4.0     \u001b[32m✔\u001b[39m \u001b[34mforcats\u001b[39m 0.5.0\n",
      "\n",
      "── \u001b[1mConflicts\u001b[22m ────────────────────────────────────────── tidyverse_conflicts() ──\n",
      "\u001b[31m✖\u001b[39m \u001b[34mdplyr\u001b[39m::\u001b[32mfilter()\u001b[39m masks \u001b[34mstats\u001b[39m::filter()\n",
      "\u001b[31m✖\u001b[39m \u001b[34mdplyr\u001b[39m::\u001b[32mlag()\u001b[39m    masks \u001b[34mstats\u001b[39m::lag()\n",
      "\n",
      "\n",
      "Attaching package: ‘janitor’\n",
      "\n",
      "\n",
      "The following objects are masked from ‘package:stats’:\n",
      "\n",
      "    chisq.test, fisher.test\n",
      "\n",
      "\n",
      "\n",
      "Attaching package: ‘lubridate’\n",
      "\n",
      "\n",
      "The following objects are masked from ‘package:base’:\n",
      "\n",
      "    date, intersect, setdiff, union\n",
      "\n",
      "\n"
     ]
    }
   ],
   "source": [
    "#Load required packages\n",
    "library(tidyverse)\n",
    "library(janitor)\n",
    "library(lubridate)\n",
    "library(skimr)"
   ]
  },
  {
   "cell_type": "code",
   "execution_count": 2,
   "id": "29814748",
   "metadata": {
    "execution": {
     "iopub.execute_input": "2022-01-17T20:42:19.004129Z",
     "iopub.status.busy": "2022-01-17T20:42:18.959675Z",
     "iopub.status.idle": "2022-01-17T20:45:02.481723Z",
     "shell.execute_reply": "2022-01-17T20:45:02.480238Z"
    },
    "papermill": {
     "duration": 163.56319,
     "end_time": "2022-01-17T20:45:02.481913",
     "exception": false,
     "start_time": "2022-01-17T20:42:18.918723",
     "status": "completed"
    },
    "tags": []
   },
   "outputs": [],
   "source": [
    "#Load data \n",
    "tripdata_202004 <- read.csv('../input/cyclistic-bikeshare-case-study/202004-divvy-tripdata.csv')\n",
    "tripdata_202005 <- read.csv('../input/cyclistic-bikeshare-case-study/202005-divvy-tripdata.csv')\n",
    "tripdata_202006 <- read.csv('../input/cyclistic-bikeshare-case-study/202006-divvy-tripdata.csv')\n",
    "tripdata_202007 <- read.csv('../input/cyclistic-bikeshare-case-study/202007-divvy-tripdata.csv')\n",
    "tripdata_202008 <- read.csv('../input/cyclistic-bikeshare-case-study/202008-divvy-tripdata.csv')\n",
    "tripdata_202009 <- read.csv('../input/cyclistic-bikeshare-case-study/202009-divvy-tripdata.csv')\n",
    "tripdata_202010 <- read.csv('../input/cyclistic-bikeshare-case-study/202010-divvy-tripdata.csv')\n",
    "tripdata_202011 <- read.csv('../input/cyclistic-bikeshare-case-study/202011-divvy-tripdata.csv')\n",
    "tripdata_202012 <- read.csv('../input/cyclistic-bikeshare-case-study/202012-divvy-tripdata.csv')\n",
    "tripdata_202101 <- read.csv('../input/cyclistic-bikeshare-case-study/202101-divvy-tripdata.csv')\n",
    "tripdata_202102 <- read.csv('../input/cyclistic-bikeshare-case-study/202102-divvy-tripdata.csv')\n",
    "tripdata_202103 <- read.csv('../input/cyclistic-bikeshare-case-study/202103-divvy-tripdata.csv')\n"
   ]
  },
  {
   "cell_type": "markdown",
   "id": "1f580c14",
   "metadata": {
    "papermill": {
     "duration": 0.036283,
     "end_time": "2022-01-17T20:45:02.557160",
     "exception": false,
     "start_time": "2022-01-17T20:45:02.520877",
     "status": "completed"
    },
    "tags": []
   },
   "source": [
    "**Verify data's integrity:**\n",
    "\n",
    "I will check all 12 data frames to make sure they all have the same column numbers, column names, and same data types."
   ]
  },
  {
   "cell_type": "code",
   "execution_count": 3,
   "id": "15c92b53",
   "metadata": {
    "_kg_hide-output": true,
    "execution": {
     "iopub.execute_input": "2022-01-17T20:45:02.636156Z",
     "iopub.status.busy": "2022-01-17T20:45:02.634826Z",
     "iopub.status.idle": "2022-01-17T20:45:02.705826Z",
     "shell.execute_reply": "2022-01-17T20:45:02.704482Z"
    },
    "papermill": {
     "duration": 0.112094,
     "end_time": "2022-01-17T20:45:02.705965",
     "exception": false,
     "start_time": "2022-01-17T20:45:02.593871",
     "status": "completed"
    },
    "scrolled": true,
    "tags": []
   },
   "outputs": [
    {
     "data": {
      "text/html": [
       "<style>\n",
       ".list-inline {list-style: none; margin:0; padding: 0}\n",
       ".list-inline>li {display: inline-block}\n",
       ".list-inline>li:not(:last-child)::after {content: \"\\00b7\"; padding: 0 .5ex}\n",
       "</style>\n",
       "<ol class=list-inline><li>'ride_id'</li><li>'rideable_type'</li><li>'started_at'</li><li>'ended_at'</li><li>'start_station_name'</li><li>'start_station_id'</li><li>'end_station_name'</li><li>'end_station_id'</li><li>'start_lat'</li><li>'start_lng'</li><li>'end_lat'</li><li>'end_lng'</li><li>'member_casual'</li></ol>\n"
      ],
      "text/latex": [
       "\\begin{enumerate*}\n",
       "\\item 'ride\\_id'\n",
       "\\item 'rideable\\_type'\n",
       "\\item 'started\\_at'\n",
       "\\item 'ended\\_at'\n",
       "\\item 'start\\_station\\_name'\n",
       "\\item 'start\\_station\\_id'\n",
       "\\item 'end\\_station\\_name'\n",
       "\\item 'end\\_station\\_id'\n",
       "\\item 'start\\_lat'\n",
       "\\item 'start\\_lng'\n",
       "\\item 'end\\_lat'\n",
       "\\item 'end\\_lng'\n",
       "\\item 'member\\_casual'\n",
       "\\end{enumerate*}\n"
      ],
      "text/markdown": [
       "1. 'ride_id'\n",
       "2. 'rideable_type'\n",
       "3. 'started_at'\n",
       "4. 'ended_at'\n",
       "5. 'start_station_name'\n",
       "6. 'start_station_id'\n",
       "7. 'end_station_name'\n",
       "8. 'end_station_id'\n",
       "9. 'start_lat'\n",
       "10. 'start_lng'\n",
       "11. 'end_lat'\n",
       "12. 'end_lng'\n",
       "13. 'member_casual'\n",
       "\n",
       "\n"
      ],
      "text/plain": [
       " [1] \"ride_id\"            \"rideable_type\"      \"started_at\"        \n",
       " [4] \"ended_at\"           \"start_station_name\" \"start_station_id\"  \n",
       " [7] \"end_station_name\"   \"end_station_id\"     \"start_lat\"         \n",
       "[10] \"start_lng\"          \"end_lat\"            \"end_lng\"           \n",
       "[13] \"member_casual\"     "
      ]
     },
     "metadata": {},
     "output_type": "display_data"
    },
    {
     "data": {
      "text/html": [
       "<style>\n",
       ".list-inline {list-style: none; margin:0; padding: 0}\n",
       ".list-inline>li {display: inline-block}\n",
       ".list-inline>li:not(:last-child)::after {content: \"\\00b7\"; padding: 0 .5ex}\n",
       "</style>\n",
       "<ol class=list-inline><li>'ride_id'</li><li>'rideable_type'</li><li>'started_at'</li><li>'ended_at'</li><li>'start_station_name'</li><li>'start_station_id'</li><li>'end_station_name'</li><li>'end_station_id'</li><li>'start_lat'</li><li>'start_lng'</li><li>'end_lat'</li><li>'end_lng'</li><li>'member_casual'</li></ol>\n"
      ],
      "text/latex": [
       "\\begin{enumerate*}\n",
       "\\item 'ride\\_id'\n",
       "\\item 'rideable\\_type'\n",
       "\\item 'started\\_at'\n",
       "\\item 'ended\\_at'\n",
       "\\item 'start\\_station\\_name'\n",
       "\\item 'start\\_station\\_id'\n",
       "\\item 'end\\_station\\_name'\n",
       "\\item 'end\\_station\\_id'\n",
       "\\item 'start\\_lat'\n",
       "\\item 'start\\_lng'\n",
       "\\item 'end\\_lat'\n",
       "\\item 'end\\_lng'\n",
       "\\item 'member\\_casual'\n",
       "\\end{enumerate*}\n"
      ],
      "text/markdown": [
       "1. 'ride_id'\n",
       "2. 'rideable_type'\n",
       "3. 'started_at'\n",
       "4. 'ended_at'\n",
       "5. 'start_station_name'\n",
       "6. 'start_station_id'\n",
       "7. 'end_station_name'\n",
       "8. 'end_station_id'\n",
       "9. 'start_lat'\n",
       "10. 'start_lng'\n",
       "11. 'end_lat'\n",
       "12. 'end_lng'\n",
       "13. 'member_casual'\n",
       "\n",
       "\n"
      ],
      "text/plain": [
       " [1] \"ride_id\"            \"rideable_type\"      \"started_at\"        \n",
       " [4] \"ended_at\"           \"start_station_name\" \"start_station_id\"  \n",
       " [7] \"end_station_name\"   \"end_station_id\"     \"start_lat\"         \n",
       "[10] \"start_lng\"          \"end_lat\"            \"end_lng\"           \n",
       "[13] \"member_casual\"     "
      ]
     },
     "metadata": {},
     "output_type": "display_data"
    },
    {
     "data": {
      "text/html": [
       "<style>\n",
       ".list-inline {list-style: none; margin:0; padding: 0}\n",
       ".list-inline>li {display: inline-block}\n",
       ".list-inline>li:not(:last-child)::after {content: \"\\00b7\"; padding: 0 .5ex}\n",
       "</style>\n",
       "<ol class=list-inline><li>'ride_id'</li><li>'rideable_type'</li><li>'started_at'</li><li>'ended_at'</li><li>'start_station_name'</li><li>'start_station_id'</li><li>'end_station_name'</li><li>'end_station_id'</li><li>'start_lat'</li><li>'start_lng'</li><li>'end_lat'</li><li>'end_lng'</li><li>'member_casual'</li></ol>\n"
      ],
      "text/latex": [
       "\\begin{enumerate*}\n",
       "\\item 'ride\\_id'\n",
       "\\item 'rideable\\_type'\n",
       "\\item 'started\\_at'\n",
       "\\item 'ended\\_at'\n",
       "\\item 'start\\_station\\_name'\n",
       "\\item 'start\\_station\\_id'\n",
       "\\item 'end\\_station\\_name'\n",
       "\\item 'end\\_station\\_id'\n",
       "\\item 'start\\_lat'\n",
       "\\item 'start\\_lng'\n",
       "\\item 'end\\_lat'\n",
       "\\item 'end\\_lng'\n",
       "\\item 'member\\_casual'\n",
       "\\end{enumerate*}\n"
      ],
      "text/markdown": [
       "1. 'ride_id'\n",
       "2. 'rideable_type'\n",
       "3. 'started_at'\n",
       "4. 'ended_at'\n",
       "5. 'start_station_name'\n",
       "6. 'start_station_id'\n",
       "7. 'end_station_name'\n",
       "8. 'end_station_id'\n",
       "9. 'start_lat'\n",
       "10. 'start_lng'\n",
       "11. 'end_lat'\n",
       "12. 'end_lng'\n",
       "13. 'member_casual'\n",
       "\n",
       "\n"
      ],
      "text/plain": [
       " [1] \"ride_id\"            \"rideable_type\"      \"started_at\"        \n",
       " [4] \"ended_at\"           \"start_station_name\" \"start_station_id\"  \n",
       " [7] \"end_station_name\"   \"end_station_id\"     \"start_lat\"         \n",
       "[10] \"start_lng\"          \"end_lat\"            \"end_lng\"           \n",
       "[13] \"member_casual\"     "
      ]
     },
     "metadata": {},
     "output_type": "display_data"
    },
    {
     "data": {
      "text/html": [
       "<style>\n",
       ".list-inline {list-style: none; margin:0; padding: 0}\n",
       ".list-inline>li {display: inline-block}\n",
       ".list-inline>li:not(:last-child)::after {content: \"\\00b7\"; padding: 0 .5ex}\n",
       "</style>\n",
       "<ol class=list-inline><li>'ride_id'</li><li>'rideable_type'</li><li>'started_at'</li><li>'ended_at'</li><li>'start_station_name'</li><li>'start_station_id'</li><li>'end_station_name'</li><li>'end_station_id'</li><li>'start_lat'</li><li>'start_lng'</li><li>'end_lat'</li><li>'end_lng'</li><li>'member_casual'</li></ol>\n"
      ],
      "text/latex": [
       "\\begin{enumerate*}\n",
       "\\item 'ride\\_id'\n",
       "\\item 'rideable\\_type'\n",
       "\\item 'started\\_at'\n",
       "\\item 'ended\\_at'\n",
       "\\item 'start\\_station\\_name'\n",
       "\\item 'start\\_station\\_id'\n",
       "\\item 'end\\_station\\_name'\n",
       "\\item 'end\\_station\\_id'\n",
       "\\item 'start\\_lat'\n",
       "\\item 'start\\_lng'\n",
       "\\item 'end\\_lat'\n",
       "\\item 'end\\_lng'\n",
       "\\item 'member\\_casual'\n",
       "\\end{enumerate*}\n"
      ],
      "text/markdown": [
       "1. 'ride_id'\n",
       "2. 'rideable_type'\n",
       "3. 'started_at'\n",
       "4. 'ended_at'\n",
       "5. 'start_station_name'\n",
       "6. 'start_station_id'\n",
       "7. 'end_station_name'\n",
       "8. 'end_station_id'\n",
       "9. 'start_lat'\n",
       "10. 'start_lng'\n",
       "11. 'end_lat'\n",
       "12. 'end_lng'\n",
       "13. 'member_casual'\n",
       "\n",
       "\n"
      ],
      "text/plain": [
       " [1] \"ride_id\"            \"rideable_type\"      \"started_at\"        \n",
       " [4] \"ended_at\"           \"start_station_name\" \"start_station_id\"  \n",
       " [7] \"end_station_name\"   \"end_station_id\"     \"start_lat\"         \n",
       "[10] \"start_lng\"          \"end_lat\"            \"end_lng\"           \n",
       "[13] \"member_casual\"     "
      ]
     },
     "metadata": {},
     "output_type": "display_data"
    },
    {
     "data": {
      "text/html": [
       "<style>\n",
       ".list-inline {list-style: none; margin:0; padding: 0}\n",
       ".list-inline>li {display: inline-block}\n",
       ".list-inline>li:not(:last-child)::after {content: \"\\00b7\"; padding: 0 .5ex}\n",
       "</style>\n",
       "<ol class=list-inline><li>'ride_id'</li><li>'rideable_type'</li><li>'started_at'</li><li>'ended_at'</li><li>'start_station_name'</li><li>'start_station_id'</li><li>'end_station_name'</li><li>'end_station_id'</li><li>'start_lat'</li><li>'start_lng'</li><li>'end_lat'</li><li>'end_lng'</li><li>'member_casual'</li></ol>\n"
      ],
      "text/latex": [
       "\\begin{enumerate*}\n",
       "\\item 'ride\\_id'\n",
       "\\item 'rideable\\_type'\n",
       "\\item 'started\\_at'\n",
       "\\item 'ended\\_at'\n",
       "\\item 'start\\_station\\_name'\n",
       "\\item 'start\\_station\\_id'\n",
       "\\item 'end\\_station\\_name'\n",
       "\\item 'end\\_station\\_id'\n",
       "\\item 'start\\_lat'\n",
       "\\item 'start\\_lng'\n",
       "\\item 'end\\_lat'\n",
       "\\item 'end\\_lng'\n",
       "\\item 'member\\_casual'\n",
       "\\end{enumerate*}\n"
      ],
      "text/markdown": [
       "1. 'ride_id'\n",
       "2. 'rideable_type'\n",
       "3. 'started_at'\n",
       "4. 'ended_at'\n",
       "5. 'start_station_name'\n",
       "6. 'start_station_id'\n",
       "7. 'end_station_name'\n",
       "8. 'end_station_id'\n",
       "9. 'start_lat'\n",
       "10. 'start_lng'\n",
       "11. 'end_lat'\n",
       "12. 'end_lng'\n",
       "13. 'member_casual'\n",
       "\n",
       "\n"
      ],
      "text/plain": [
       " [1] \"ride_id\"            \"rideable_type\"      \"started_at\"        \n",
       " [4] \"ended_at\"           \"start_station_name\" \"start_station_id\"  \n",
       " [7] \"end_station_name\"   \"end_station_id\"     \"start_lat\"         \n",
       "[10] \"start_lng\"          \"end_lat\"            \"end_lng\"           \n",
       "[13] \"member_casual\"     "
      ]
     },
     "metadata": {},
     "output_type": "display_data"
    },
    {
     "data": {
      "text/html": [
       "<style>\n",
       ".list-inline {list-style: none; margin:0; padding: 0}\n",
       ".list-inline>li {display: inline-block}\n",
       ".list-inline>li:not(:last-child)::after {content: \"\\00b7\"; padding: 0 .5ex}\n",
       "</style>\n",
       "<ol class=list-inline><li>'ride_id'</li><li>'rideable_type'</li><li>'started_at'</li><li>'ended_at'</li><li>'start_station_name'</li><li>'start_station_id'</li><li>'end_station_name'</li><li>'end_station_id'</li><li>'start_lat'</li><li>'start_lng'</li><li>'end_lat'</li><li>'end_lng'</li><li>'member_casual'</li></ol>\n"
      ],
      "text/latex": [
       "\\begin{enumerate*}\n",
       "\\item 'ride\\_id'\n",
       "\\item 'rideable\\_type'\n",
       "\\item 'started\\_at'\n",
       "\\item 'ended\\_at'\n",
       "\\item 'start\\_station\\_name'\n",
       "\\item 'start\\_station\\_id'\n",
       "\\item 'end\\_station\\_name'\n",
       "\\item 'end\\_station\\_id'\n",
       "\\item 'start\\_lat'\n",
       "\\item 'start\\_lng'\n",
       "\\item 'end\\_lat'\n",
       "\\item 'end\\_lng'\n",
       "\\item 'member\\_casual'\n",
       "\\end{enumerate*}\n"
      ],
      "text/markdown": [
       "1. 'ride_id'\n",
       "2. 'rideable_type'\n",
       "3. 'started_at'\n",
       "4. 'ended_at'\n",
       "5. 'start_station_name'\n",
       "6. 'start_station_id'\n",
       "7. 'end_station_name'\n",
       "8. 'end_station_id'\n",
       "9. 'start_lat'\n",
       "10. 'start_lng'\n",
       "11. 'end_lat'\n",
       "12. 'end_lng'\n",
       "13. 'member_casual'\n",
       "\n",
       "\n"
      ],
      "text/plain": [
       " [1] \"ride_id\"            \"rideable_type\"      \"started_at\"        \n",
       " [4] \"ended_at\"           \"start_station_name\" \"start_station_id\"  \n",
       " [7] \"end_station_name\"   \"end_station_id\"     \"start_lat\"         \n",
       "[10] \"start_lng\"          \"end_lat\"            \"end_lng\"           \n",
       "[13] \"member_casual\"     "
      ]
     },
     "metadata": {},
     "output_type": "display_data"
    },
    {
     "data": {
      "text/html": [
       "<style>\n",
       ".list-inline {list-style: none; margin:0; padding: 0}\n",
       ".list-inline>li {display: inline-block}\n",
       ".list-inline>li:not(:last-child)::after {content: \"\\00b7\"; padding: 0 .5ex}\n",
       "</style>\n",
       "<ol class=list-inline><li>'ride_id'</li><li>'rideable_type'</li><li>'started_at'</li><li>'ended_at'</li><li>'start_station_name'</li><li>'start_station_id'</li><li>'end_station_name'</li><li>'end_station_id'</li><li>'start_lat'</li><li>'start_lng'</li><li>'end_lat'</li><li>'end_lng'</li><li>'member_casual'</li></ol>\n"
      ],
      "text/latex": [
       "\\begin{enumerate*}\n",
       "\\item 'ride\\_id'\n",
       "\\item 'rideable\\_type'\n",
       "\\item 'started\\_at'\n",
       "\\item 'ended\\_at'\n",
       "\\item 'start\\_station\\_name'\n",
       "\\item 'start\\_station\\_id'\n",
       "\\item 'end\\_station\\_name'\n",
       "\\item 'end\\_station\\_id'\n",
       "\\item 'start\\_lat'\n",
       "\\item 'start\\_lng'\n",
       "\\item 'end\\_lat'\n",
       "\\item 'end\\_lng'\n",
       "\\item 'member\\_casual'\n",
       "\\end{enumerate*}\n"
      ],
      "text/markdown": [
       "1. 'ride_id'\n",
       "2. 'rideable_type'\n",
       "3. 'started_at'\n",
       "4. 'ended_at'\n",
       "5. 'start_station_name'\n",
       "6. 'start_station_id'\n",
       "7. 'end_station_name'\n",
       "8. 'end_station_id'\n",
       "9. 'start_lat'\n",
       "10. 'start_lng'\n",
       "11. 'end_lat'\n",
       "12. 'end_lng'\n",
       "13. 'member_casual'\n",
       "\n",
       "\n"
      ],
      "text/plain": [
       " [1] \"ride_id\"            \"rideable_type\"      \"started_at\"        \n",
       " [4] \"ended_at\"           \"start_station_name\" \"start_station_id\"  \n",
       " [7] \"end_station_name\"   \"end_station_id\"     \"start_lat\"         \n",
       "[10] \"start_lng\"          \"end_lat\"            \"end_lng\"           \n",
       "[13] \"member_casual\"     "
      ]
     },
     "metadata": {},
     "output_type": "display_data"
    },
    {
     "data": {
      "text/html": [
       "<style>\n",
       ".list-inline {list-style: none; margin:0; padding: 0}\n",
       ".list-inline>li {display: inline-block}\n",
       ".list-inline>li:not(:last-child)::after {content: \"\\00b7\"; padding: 0 .5ex}\n",
       "</style>\n",
       "<ol class=list-inline><li>'ride_id'</li><li>'rideable_type'</li><li>'started_at'</li><li>'ended_at'</li><li>'start_station_name'</li><li>'start_station_id'</li><li>'end_station_name'</li><li>'end_station_id'</li><li>'start_lat'</li><li>'start_lng'</li><li>'end_lat'</li><li>'end_lng'</li><li>'member_casual'</li></ol>\n"
      ],
      "text/latex": [
       "\\begin{enumerate*}\n",
       "\\item 'ride\\_id'\n",
       "\\item 'rideable\\_type'\n",
       "\\item 'started\\_at'\n",
       "\\item 'ended\\_at'\n",
       "\\item 'start\\_station\\_name'\n",
       "\\item 'start\\_station\\_id'\n",
       "\\item 'end\\_station\\_name'\n",
       "\\item 'end\\_station\\_id'\n",
       "\\item 'start\\_lat'\n",
       "\\item 'start\\_lng'\n",
       "\\item 'end\\_lat'\n",
       "\\item 'end\\_lng'\n",
       "\\item 'member\\_casual'\n",
       "\\end{enumerate*}\n"
      ],
      "text/markdown": [
       "1. 'ride_id'\n",
       "2. 'rideable_type'\n",
       "3. 'started_at'\n",
       "4. 'ended_at'\n",
       "5. 'start_station_name'\n",
       "6. 'start_station_id'\n",
       "7. 'end_station_name'\n",
       "8. 'end_station_id'\n",
       "9. 'start_lat'\n",
       "10. 'start_lng'\n",
       "11. 'end_lat'\n",
       "12. 'end_lng'\n",
       "13. 'member_casual'\n",
       "\n",
       "\n"
      ],
      "text/plain": [
       " [1] \"ride_id\"            \"rideable_type\"      \"started_at\"        \n",
       " [4] \"ended_at\"           \"start_station_name\" \"start_station_id\"  \n",
       " [7] \"end_station_name\"   \"end_station_id\"     \"start_lat\"         \n",
       "[10] \"start_lng\"          \"end_lat\"            \"end_lng\"           \n",
       "[13] \"member_casual\"     "
      ]
     },
     "metadata": {},
     "output_type": "display_data"
    },
    {
     "data": {
      "text/html": [
       "<style>\n",
       ".list-inline {list-style: none; margin:0; padding: 0}\n",
       ".list-inline>li {display: inline-block}\n",
       ".list-inline>li:not(:last-child)::after {content: \"\\00b7\"; padding: 0 .5ex}\n",
       "</style>\n",
       "<ol class=list-inline><li>'ride_id'</li><li>'rideable_type'</li><li>'started_at'</li><li>'ended_at'</li><li>'start_station_name'</li><li>'start_station_id'</li><li>'end_station_name'</li><li>'end_station_id'</li><li>'start_lat'</li><li>'start_lng'</li><li>'end_lat'</li><li>'end_lng'</li><li>'member_casual'</li></ol>\n"
      ],
      "text/latex": [
       "\\begin{enumerate*}\n",
       "\\item 'ride\\_id'\n",
       "\\item 'rideable\\_type'\n",
       "\\item 'started\\_at'\n",
       "\\item 'ended\\_at'\n",
       "\\item 'start\\_station\\_name'\n",
       "\\item 'start\\_station\\_id'\n",
       "\\item 'end\\_station\\_name'\n",
       "\\item 'end\\_station\\_id'\n",
       "\\item 'start\\_lat'\n",
       "\\item 'start\\_lng'\n",
       "\\item 'end\\_lat'\n",
       "\\item 'end\\_lng'\n",
       "\\item 'member\\_casual'\n",
       "\\end{enumerate*}\n"
      ],
      "text/markdown": [
       "1. 'ride_id'\n",
       "2. 'rideable_type'\n",
       "3. 'started_at'\n",
       "4. 'ended_at'\n",
       "5. 'start_station_name'\n",
       "6. 'start_station_id'\n",
       "7. 'end_station_name'\n",
       "8. 'end_station_id'\n",
       "9. 'start_lat'\n",
       "10. 'start_lng'\n",
       "11. 'end_lat'\n",
       "12. 'end_lng'\n",
       "13. 'member_casual'\n",
       "\n",
       "\n"
      ],
      "text/plain": [
       " [1] \"ride_id\"            \"rideable_type\"      \"started_at\"        \n",
       " [4] \"ended_at\"           \"start_station_name\" \"start_station_id\"  \n",
       " [7] \"end_station_name\"   \"end_station_id\"     \"start_lat\"         \n",
       "[10] \"start_lng\"          \"end_lat\"            \"end_lng\"           \n",
       "[13] \"member_casual\"     "
      ]
     },
     "metadata": {},
     "output_type": "display_data"
    },
    {
     "data": {
      "text/html": [
       "<style>\n",
       ".list-inline {list-style: none; margin:0; padding: 0}\n",
       ".list-inline>li {display: inline-block}\n",
       ".list-inline>li:not(:last-child)::after {content: \"\\00b7\"; padding: 0 .5ex}\n",
       "</style>\n",
       "<ol class=list-inline><li>'ride_id'</li><li>'rideable_type'</li><li>'started_at'</li><li>'ended_at'</li><li>'start_station_name'</li><li>'start_station_id'</li><li>'end_station_name'</li><li>'end_station_id'</li><li>'start_lat'</li><li>'start_lng'</li><li>'end_lat'</li><li>'end_lng'</li><li>'member_casual'</li></ol>\n"
      ],
      "text/latex": [
       "\\begin{enumerate*}\n",
       "\\item 'ride\\_id'\n",
       "\\item 'rideable\\_type'\n",
       "\\item 'started\\_at'\n",
       "\\item 'ended\\_at'\n",
       "\\item 'start\\_station\\_name'\n",
       "\\item 'start\\_station\\_id'\n",
       "\\item 'end\\_station\\_name'\n",
       "\\item 'end\\_station\\_id'\n",
       "\\item 'start\\_lat'\n",
       "\\item 'start\\_lng'\n",
       "\\item 'end\\_lat'\n",
       "\\item 'end\\_lng'\n",
       "\\item 'member\\_casual'\n",
       "\\end{enumerate*}\n"
      ],
      "text/markdown": [
       "1. 'ride_id'\n",
       "2. 'rideable_type'\n",
       "3. 'started_at'\n",
       "4. 'ended_at'\n",
       "5. 'start_station_name'\n",
       "6. 'start_station_id'\n",
       "7. 'end_station_name'\n",
       "8. 'end_station_id'\n",
       "9. 'start_lat'\n",
       "10. 'start_lng'\n",
       "11. 'end_lat'\n",
       "12. 'end_lng'\n",
       "13. 'member_casual'\n",
       "\n",
       "\n"
      ],
      "text/plain": [
       " [1] \"ride_id\"            \"rideable_type\"      \"started_at\"        \n",
       " [4] \"ended_at\"           \"start_station_name\" \"start_station_id\"  \n",
       " [7] \"end_station_name\"   \"end_station_id\"     \"start_lat\"         \n",
       "[10] \"start_lng\"          \"end_lat\"            \"end_lng\"           \n",
       "[13] \"member_casual\"     "
      ]
     },
     "metadata": {},
     "output_type": "display_data"
    },
    {
     "data": {
      "text/html": [
       "<style>\n",
       ".list-inline {list-style: none; margin:0; padding: 0}\n",
       ".list-inline>li {display: inline-block}\n",
       ".list-inline>li:not(:last-child)::after {content: \"\\00b7\"; padding: 0 .5ex}\n",
       "</style>\n",
       "<ol class=list-inline><li>'ride_id'</li><li>'rideable_type'</li><li>'started_at'</li><li>'ended_at'</li><li>'start_station_name'</li><li>'start_station_id'</li><li>'end_station_name'</li><li>'end_station_id'</li><li>'start_lat'</li><li>'start_lng'</li><li>'end_lat'</li><li>'end_lng'</li><li>'member_casual'</li></ol>\n"
      ],
      "text/latex": [
       "\\begin{enumerate*}\n",
       "\\item 'ride\\_id'\n",
       "\\item 'rideable\\_type'\n",
       "\\item 'started\\_at'\n",
       "\\item 'ended\\_at'\n",
       "\\item 'start\\_station\\_name'\n",
       "\\item 'start\\_station\\_id'\n",
       "\\item 'end\\_station\\_name'\n",
       "\\item 'end\\_station\\_id'\n",
       "\\item 'start\\_lat'\n",
       "\\item 'start\\_lng'\n",
       "\\item 'end\\_lat'\n",
       "\\item 'end\\_lng'\n",
       "\\item 'member\\_casual'\n",
       "\\end{enumerate*}\n"
      ],
      "text/markdown": [
       "1. 'ride_id'\n",
       "2. 'rideable_type'\n",
       "3. 'started_at'\n",
       "4. 'ended_at'\n",
       "5. 'start_station_name'\n",
       "6. 'start_station_id'\n",
       "7. 'end_station_name'\n",
       "8. 'end_station_id'\n",
       "9. 'start_lat'\n",
       "10. 'start_lng'\n",
       "11. 'end_lat'\n",
       "12. 'end_lng'\n",
       "13. 'member_casual'\n",
       "\n",
       "\n"
      ],
      "text/plain": [
       " [1] \"ride_id\"            \"rideable_type\"      \"started_at\"        \n",
       " [4] \"ended_at\"           \"start_station_name\" \"start_station_id\"  \n",
       " [7] \"end_station_name\"   \"end_station_id\"     \"start_lat\"         \n",
       "[10] \"start_lng\"          \"end_lat\"            \"end_lng\"           \n",
       "[13] \"member_casual\"     "
      ]
     },
     "metadata": {},
     "output_type": "display_data"
    },
    {
     "data": {
      "text/html": [
       "<style>\n",
       ".list-inline {list-style: none; margin:0; padding: 0}\n",
       ".list-inline>li {display: inline-block}\n",
       ".list-inline>li:not(:last-child)::after {content: \"\\00b7\"; padding: 0 .5ex}\n",
       "</style>\n",
       "<ol class=list-inline><li>'ride_id'</li><li>'rideable_type'</li><li>'started_at'</li><li>'ended_at'</li><li>'start_station_name'</li><li>'start_station_id'</li><li>'end_station_name'</li><li>'end_station_id'</li><li>'start_lat'</li><li>'start_lng'</li><li>'end_lat'</li><li>'end_lng'</li><li>'member_casual'</li></ol>\n"
      ],
      "text/latex": [
       "\\begin{enumerate*}\n",
       "\\item 'ride\\_id'\n",
       "\\item 'rideable\\_type'\n",
       "\\item 'started\\_at'\n",
       "\\item 'ended\\_at'\n",
       "\\item 'start\\_station\\_name'\n",
       "\\item 'start\\_station\\_id'\n",
       "\\item 'end\\_station\\_name'\n",
       "\\item 'end\\_station\\_id'\n",
       "\\item 'start\\_lat'\n",
       "\\item 'start\\_lng'\n",
       "\\item 'end\\_lat'\n",
       "\\item 'end\\_lng'\n",
       "\\item 'member\\_casual'\n",
       "\\end{enumerate*}\n"
      ],
      "text/markdown": [
       "1. 'ride_id'\n",
       "2. 'rideable_type'\n",
       "3. 'started_at'\n",
       "4. 'ended_at'\n",
       "5. 'start_station_name'\n",
       "6. 'start_station_id'\n",
       "7. 'end_station_name'\n",
       "8. 'end_station_id'\n",
       "9. 'start_lat'\n",
       "10. 'start_lng'\n",
       "11. 'end_lat'\n",
       "12. 'end_lng'\n",
       "13. 'member_casual'\n",
       "\n",
       "\n"
      ],
      "text/plain": [
       " [1] \"ride_id\"            \"rideable_type\"      \"started_at\"        \n",
       " [4] \"ended_at\"           \"start_station_name\" \"start_station_id\"  \n",
       " [7] \"end_station_name\"   \"end_station_id\"     \"start_lat\"         \n",
       "[10] \"start_lng\"          \"end_lat\"            \"end_lng\"           \n",
       "[13] \"member_casual\"     "
      ]
     },
     "metadata": {},
     "output_type": "display_data"
    }
   ],
   "source": [
    "# Verify column names for all data frames\n",
    "colnames(tripdata_202004)\n",
    "colnames(tripdata_202005)\n",
    "colnames(tripdata_202006)\n",
    "colnames(tripdata_202007)\n",
    "colnames(tripdata_202008)\n",
    "colnames(tripdata_202009)\n",
    "colnames(tripdata_202010)\n",
    "colnames(tripdata_202011)\n",
    "colnames(tripdata_202012)\n",
    "colnames(tripdata_202101)\n",
    "colnames(tripdata_202102)\n",
    "colnames(tripdata_202103)\n"
   ]
  },
  {
   "cell_type": "code",
   "execution_count": 4,
   "id": "891c684e",
   "metadata": {
    "_kg_hide-output": true,
    "execution": {
     "iopub.execute_input": "2022-01-17T20:45:02.805182Z",
     "iopub.status.busy": "2022-01-17T20:45:02.803763Z",
     "iopub.status.idle": "2022-01-17T20:45:03.004738Z",
     "shell.execute_reply": "2022-01-17T20:45:03.003118Z"
    },
    "papermill": {
     "duration": 0.252575,
     "end_time": "2022-01-17T20:45:03.004901",
     "exception": false,
     "start_time": "2022-01-17T20:45:02.752326",
     "status": "completed"
    },
    "scrolled": true,
    "tags": []
   },
   "outputs": [
    {
     "name": "stdout",
     "output_type": "stream",
     "text": [
      "'data.frame':\t84776 obs. of  13 variables:\n",
      " $ ride_id           : Factor w/ 84776 levels \"00009D28BA1C43CB\",..: 55878 27896 31201 14132 13221 17743 53958 83622 52725 56115 ...\n",
      " $ rideable_type     : Factor w/ 1 level \"docked_bike\": 1 1 1 1 1 1 1 1 1 1 ...\n",
      " $ started_at        : Factor w/ 81200 levels \"2020-04-01 00:00:30\",..: 71395 42635 1723 16637 43704 80306 3344 16464 38494 9169 ...\n",
      " $ ended_at          : Factor w/ 81029 levels \"2020-04-01 00:10:45\",..: 71198 42488 1689 16514 43689 80020 3292 16700 38366 9137 ...\n",
      " $ start_station_name: Factor w/ 602 levels \"2112 W Peterson Ave\",..: 207 201 367 65 456 382 527 410 329 287 ...\n",
      " $ start_station_id  : int  86 503 142 216 125 173 35 434 627 377 ...\n",
      " $ end_station_name  : Factor w/ 601 levels \"\",\"2112 W Peterson Ave\",..: 345 303 276 593 480 526 223 572 322 96 ...\n",
      " $ end_station_id    : int  152 499 255 657 323 35 635 382 359 508 ...\n",
      " $ start_lat         : num  41.9 41.9 41.9 41.9 41.9 ...\n",
      " $ start_lng         : num  -87.7 -87.7 -87.6 -87.7 -87.6 ...\n",
      " $ end_lat           : num  41.9 41.9 41.9 41.9 42 ...\n",
      " $ end_lng           : num  -87.7 -87.7 -87.6 -87.7 -87.7 ...\n",
      " $ member_casual     : Factor w/ 2 levels \"casual\",\"member\": 2 2 2 2 1 2 2 1 1 2 ...\n",
      "'data.frame':\t200274 obs. of  13 variables:\n",
      " $ ride_id           : Factor w/ 200274 levels \"0000127970C84F62\",..: 1876 95941 37785 69421 131072 15996 29171 185545 28117 64948 ...\n",
      " $ rideable_type     : Factor w/ 1 level \"docked_bike\": 1 1 1 1 1 1 1 1 1 1 ...\n",
      " $ started_at        : Factor w/ 181391 levels \"2020-05-01 00:02:07\",..: 144785 125766 9027 11700 159589 159931 87083 31181 175762 104659 ...\n",
      " $ ended_at          : Factor w/ 181080 levels \"2020-05-01 00:13:03\",..: 144453 125350 10200 11225 159402 159847 87125 31168 175107 104474 ...\n",
      " $ start_station_name: Factor w/ 608 levels \"2112 W Peterson Ave\",..: 235 140 291 114 268 257 268 460 258 171 ...\n",
      " $ start_station_id  : int  36 340 260 251 261 206 261 180 331 219 ...\n",
      " $ end_station_name  : Factor w/ 612 levels \"\",\"2112 W Peterson Ave\",..: 557 130 294 321 260 373 271 463 47 584 ...\n",
      " $ end_station_id    : int  199 326 260 157 206 22 261 180 300 305 ...\n",
      " $ start_lat         : num  41.9 41.9 41.9 42 41.9 ...\n",
      " $ start_lng         : num  -87.6 -87.6 -87.7 -87.7 -87.7 ...\n",
      " $ end_lat           : num  41.9 42 41.9 41.9 41.8 ...\n",
      " $ end_lng           : num  -87.6 -87.7 -87.7 -87.6 -87.6 ...\n",
      " $ member_casual     : Factor w/ 2 levels \"casual\",\"member\": 2 1 1 1 2 2 2 1 1 1 ...\n",
      "'data.frame':\t343005 obs. of  13 variables:\n",
      " $ ride_id           : Factor w/ 343005 levels \"00000550C665101A\",..: 189053 206525 326283 262994 100757 285656 29706 289700 211205 82745 ...\n",
      " $ rideable_type     : Factor w/ 1 level \"docked_bike\": 1 1 1 1 1 1 1 1 1 1 ...\n",
      " $ started_at        : Factor w/ 299992 levels \"2020-06-03 05:59:59\",..: 99985 239542 208684 169915 232343 139910 225668 155403 290665 268915 ...\n",
      " $ ended_at          : Factor w/ 299346 levels \"2020-06-03 06:03:37\",..: 99802 239021 207940 169557 231559 139367 225227 155086 290026 267858 ...\n",
      " $ start_station_name: Factor w/ 616 levels \"2112 W Peterson Ave\",..: 598 227 166 49 481 481 227 482 73 392 ...\n",
      " $ start_station_id  : int  117 41 81 303 327 327 41 115 338 84 ...\n",
      " $ end_station_name  : Factor w/ 620 levels \"\",\"2112 W Peterson Ave\",..: 172 167 525 49 602 602 167 50 240 577 ...\n",
      " $ end_station_id    : int  163 81 5 294 117 117 81 303 164 53 ...\n",
      " $ start_lat         : num  41.9 41.9 41.9 41.9 41.9 ...\n",
      " $ start_lng         : num  -87.7 -87.6 -87.6 -87.6 -87.7 ...\n",
      " $ end_lat           : num  41.9 41.9 41.9 42 41.9 ...\n",
      " $ end_lng           : num  -87.7 -87.6 -87.6 -87.7 -87.7 ...\n",
      " $ member_casual     : Factor w/ 2 levels \"casual\",\"member\": 1 2 2 1 1 1 2 1 2 2 ...\n",
      "'data.frame':\t551480 obs. of  13 variables:\n",
      " $ ride_id           : Factor w/ 551480 levels \"000001004784CD35\",..: 254094 410914 454389 181590 180120 217859 74704 434522 542626 297608 ...\n",
      " $ rideable_type     : Factor w/ 2 levels \"docked_bike\",..: 1 1 1 1 1 1 1 1 1 1 ...\n",
      " $ started_at        : Factor w/ 468441 levels \"2020-07-01 00:00:14\",..: 123022 355167 114644 246083 48091 413950 438954 189410 438314 86496 ...\n",
      " $ ended_at          : Factor w/ 467938 levels \"2020-07-01 00:03:01\",..: 122578 354581 114058 245800 47706 413288 438371 189045 437712 86018 ...\n",
      " $ start_station_name: Factor w/ 620 levels \"\",\"2112 W Peterson Ave\",..: 468 271 322 342 324 229 44 518 126 238 ...\n",
      " $ start_station_id  : int  180 299 329 181 268 635 113 211 176 31 ...\n",
      " $ end_station_name  : Factor w/ 623 levels \"\",\"2112 W Peterson Ave\",..: 581 54 142 120 139 579 192 240 89 382 ...\n",
      " $ end_station_id    : int  291 461 156 94 301 289 140 31 191 142 ...\n",
      " $ start_lat         : num  41.9 41.9 41.9 41.9 41.9 ...\n",
      " $ start_lng         : num  -87.6 -87.6 -87.6 -87.6 -87.6 ...\n",
      " $ end_lat           : num  41.9 42 41.9 41.9 41.9 ...\n",
      " $ end_lng           : num  -87.6 -87.7 -87.6 -87.6 -87.6 ...\n",
      " $ member_casual     : Factor w/ 2 levels \"casual\",\"member\": 2 2 1 1 2 1 2 2 2 2 ...\n",
      "'data.frame':\t622361 obs. of  13 variables:\n",
      " $ ride_id           : Factor w/ 622361 levels \"0000376F8A298CB2\",..: 121677 102355 251960 485097 47413 209041 572253 439485 27195 74727 ...\n",
      " $ rideable_type     : Factor w/ 2 levels \"docked_bike\",..: 1 2 2 2 2 2 2 2 2 2 ...\n",
      " $ started_at        : Factor w/ 514094 levels \"2020-08-01 00:00:01\",..: 317981 436824 423318 430476 434240 434950 423882 425170 422733 432804 ...\n",
      " $ ended_at          : Factor w/ 512691 levels \"2020-08-01 00:04:41\",..: 316439 436534 423696 429594 432800 434140 422666 423915 421382 431654 ...\n",
      " $ start_station_name: Factor w/ 637 levels \"\",\"2112 W Peterson Ave\",..: 331 393 157 172 360 360 116 496 527 561 ...\n",
      " $ start_station_id  : int  329 168 195 81 658 658 196 67 153 177 ...\n",
      " $ end_station_name  : Factor w/ 637 levels \"\",\"2112 W Peterson Ave\",..: 135 393 545 542 360 360 198 525 274 609 ...\n",
      " $ end_station_id    : int  141 168 44 47 658 658 49 229 225 305 ...\n",
      " $ start_lat         : num  41.9 41.9 41.9 41.9 41.9 ...\n",
      " $ start_lng         : num  -87.6 -87.6 -87.6 -87.6 -87.7 ...\n",
      " $ end_lat           : num  41.9 41.9 41.9 41.9 41.9 ...\n",
      " $ end_lng           : num  -87.6 -87.6 -87.6 -87.6 -87.7 ...\n",
      " $ member_casual     : Factor w/ 2 levels \"casual\",\"member\": 2 1 1 1 1 1 1 1 1 1 ...\n",
      "'data.frame':\t532958 obs. of  13 variables:\n",
      " $ ride_id           : Factor w/ 532958 levels \"00002279D7D315A5\",..: 89779 349629 278773 182749 386687 115699 26535 312995 175935 303278 ...\n",
      " $ rideable_type     : Factor w/ 2 levels \"docked_bike\",..: 2 2 2 2 2 2 2 2 2 2 ...\n",
      " $ started_at        : Factor w/ 446551 levels \"2020-09-01 00:00:07\",..: 235638 236129 236145 240029 236240 240731 228515 233987 238344 234011 ...\n",
      " $ ended_at          : Factor w/ 443261 levels \"2020-09-01 00:04:43\",..: 234031 234291 234313 238558 234975 239709 226851 232211 236941 232322 ...\n",
      " $ start_station_name: Factor w/ 665 levels \"\",\"2112 W Peterson Ave\",..: 417 599 599 24 245 126 621 1 1 1 ...\n",
      " $ start_station_id  : int  52 NA NA 246 24 94 291 NA NA NA ...\n",
      " $ end_station_name  : Factor w/ 664 levels \"\",\"2112 W Peterson Ave\",..: 263 598 598 437 245 1 59 1 1 1 ...\n",
      " $ end_station_id    : int  112 NA NA 249 24 NA 256 NA NA NA ...\n",
      " $ start_lat         : num  41.9 41.9 41.9 42 41.9 ...\n",
      " $ start_lng         : num  -87.6 -87.6 -87.6 -87.7 -87.6 ...\n",
      " $ end_lat           : num  41.9 41.9 41.9 42 41.9 ...\n",
      " $ end_lng           : num  -87.6 -87.6 -87.6 -87.6 -87.6 ...\n",
      " $ member_casual     : Factor w/ 2 levels \"casual\",\"member\": 1 1 1 1 1 1 1 1 1 1 ...\n",
      "'data.frame':\t388653 obs. of  13 variables:\n",
      " $ ride_id           : Factor w/ 388653 levels \"00004BC36B8BA585\",..: 262383 339326 276737 104040 25355 332030 296134 32903 61070 343472 ...\n",
      " $ rideable_type     : Factor w/ 2 levels \"docked_bike\",..: 2 2 2 2 2 2 2 2 2 2 ...\n",
      " $ started_at        : Factor w/ 338923 levels \"2020-10-01 00:00:06\",..: 337794 338892 338737 338589 337784 316661 312746 315903 311227 315918 ...\n",
      " $ ended_at          : Factor w/ 335877 levels \"2020-10-01 00:05:09\",..: 334752 335814 335651 335484 334730 313668 309860 313012 308330 312991 ...\n",
      " $ start_station_name: Factor w/ 670 levels \"\",\"2112 W Peterson Ave\",..: 356 549 578 135 551 361 356 507 1 95 ...\n",
      " $ start_station_id  : int  313 227 102 165 190 359 313 125 NA 174 ...\n",
      " $ end_station_name  : Factor w/ 670 levels \"\",\"2112 W Peterson Ave\",..: 506 326 594 61 571 627 506 356 610 248 ...\n",
      " $ end_station_id    : int  125 260 423 256 185 53 125 313 199 635 ...\n",
      " $ start_lat         : num  41.9 41.9 41.8 42 41.9 ...\n",
      " $ start_lng         : num  -87.6 -87.7 -87.6 -87.7 -87.7 ...\n",
      " $ end_lat           : num  41.9 41.9 41.8 42 41.9 ...\n",
      " $ end_lng           : num  -87.6 -87.7 -87.6 -87.7 -87.7 ...\n",
      " $ member_casual     : Factor w/ 2 levels \"casual\",\"member\": 1 1 1 1 1 1 1 1 1 1 ...\n",
      "'data.frame':\t259716 obs. of  13 variables:\n",
      " $ ride_id           : Factor w/ 259716 levels \"000058F6DBC33A30\",..: 192009 153049 201131 232599 29373 116211 148308 160945 168141 132269 ...\n",
      " $ rideable_type     : Factor w/ 2 levels \"docked_bike\",..: 2 2 2 2 2 2 2 2 2 2 ...\n",
      " $ started_at        : Factor w/ 233064 levels \"2020-11-01 00:00:08\",..: 2723 1201 102 135 3822 142727 143204 142809 142987 137913 ...\n",
      " $ ended_at          : Factor w/ 231222 levels \"2020-11-01 00:02:20\",..: 2653 1202 156 119 3979 141945 142131 141729 142012 136908 ...\n",
      " $ start_station_name: Factor w/ 666 levels \"\",\"2112 W Peterson Ave\",..: 204 255 348 376 64 601 348 1 405 125 ...\n",
      " $ start_station_id  : int  110 672 76 659 2 72 76 NA 58 394 ...\n",
      " $ end_station_name  : Factor w/ 658 levels \"\",\"2112 W Peterson Ave\",..: 546 444 246 564 64 346 594 1 355 410 ...\n",
      " $ end_station_id    : int  211 29 41 185 2 76 72 NA 288 273 ...\n",
      " $ start_lat         : num  41.9 41.9 41.9 41.9 41.9 ...\n",
      " $ start_lng         : num  -87.6 -87.6 -87.6 -87.7 -87.6 ...\n",
      " $ end_lat           : num  41.9 41.9 41.9 41.9 41.9 ...\n",
      " $ end_lng           : num  -87.6 -87.7 -87.6 -87.7 -87.6 ...\n",
      " $ member_casual     : Factor w/ 2 levels \"casual\",\"member\": 1 1 1 1 1 1 1 1 1 1 ...\n",
      "'data.frame':\t131573 obs. of  13 variables:\n",
      " $ ride_id           : Factor w/ 131573 levels \"000048F4A10F09FA\",..: 57568 11004 42073 97616 53928 99637 90315 15315 3091 96244 ...\n",
      " $ rideable_type     : Factor w/ 3 levels \"classic_bike\",..: 1 3 3 3 3 3 3 3 3 3 ...\n",
      " $ started_at        : Factor w/ 125672 levels \"2020-12-01 00:01:15\",..: 112797 83380 70156 70391 99448 99894 12737 12159 56580 81420 ...\n",
      " $ ended_at          : Factor w/ 125413 levels \"2020-11-25 07:40:56\",..: 112530 83129 69917 70154 99144 99618 12903 12348 56687 81134 ...\n",
      " $ start_station_name: Factor w/ 645 levels \"\",\"2112 W Peterson Ave\",..: 5 1 1 1 1 1 1 1 1 1 ...\n",
      " $ start_station_id  : Factor w/ 643 levels \"\",\"13001\",\"13006\",..: 59 1 1 1 1 1 1 1 1 1 ...\n",
      " $ end_station_name  : Factor w/ 644 levels \"\",\"2112 W Peterson Ave\",..: 205 1 1 1 1 1 1 1 1 1 ...\n",
      " $ end_station_id    : Factor w/ 642 levels \"\",\"13001\",\"13006\",..: 507 1 1 1 1 1 1 1 1 1 ...\n",
      " $ start_lat         : num  41.9 41.9 41.9 41.9 41.8 ...\n",
      " $ start_lng         : num  -87.7 -87.7 -87.7 -87.7 -87.6 ...\n",
      " $ end_lat           : num  41.9 41.9 41.9 41.9 41.8 ...\n",
      " $ end_lng           : num  -87.6 -87.7 -87.7 -87.7 -87.6 ...\n",
      " $ member_casual     : Factor w/ 2 levels \"casual\",\"member\": 2 2 2 2 2 2 2 2 2 2 ...\n",
      "'data.frame':\t96834 obs. of  13 variables:\n",
      " $ ride_id           : Factor w/ 96834 levels \"0000CB9B87AECF12\",..: 85247 83334 89312 30159 71828 35268 3440 84454 73654 70200 ...\n",
      " $ rideable_type     : Factor w/ 3 levels \"classic_bike\",..: 3 3 3 3 3 3 3 3 3 1 ...\n",
      " $ started_at        : Factor w/ 93736 levels \"2021-01-01 00:02:05\",..: 74985 85029 69525 17741 72665 26048 5653 45379 24251 78630 ...\n",
      " $ ended_at          : Factor w/ 93582 levels \"2021-01-01 00:08:39\",..: 74802 84840 69352 17713 72501 26319 5629 45291 24187 78449 ...\n",
      " $ start_station_name: Factor w/ 641 levels \"\",\"2112 W Peterson Ave\",..: 72 72 72 72 72 72 72 72 72 72 ...\n",
      " $ start_station_id  : Factor w/ 639 levels \"\",\"13001\",\"13006\",..: 212 212 212 212 212 212 212 212 212 212 ...\n",
      " $ end_station_name  : Factor w/ 633 levels \"\",\"2112 W Peterson Ave\",..: 1 1 1 1 1 1 1 1 1 625 ...\n",
      " $ end_station_id    : Factor w/ 630 levels \"\",\"13001\",\"13006\",..: 1 1 1 1 1 1 1 1 1 327 ...\n",
      " $ start_lat         : num  41.9 41.9 41.9 41.9 41.9 ...\n",
      " $ start_lng         : num  -87.7 -87.7 -87.7 -87.7 -87.7 ...\n",
      " $ end_lat           : num  41.9 41.9 41.9 41.9 41.9 ...\n",
      " $ end_lng           : num  -87.7 -87.7 -87.7 -87.7 -87.7 ...\n",
      " $ member_casual     : Factor w/ 2 levels \"casual\",\"member\": 2 2 2 2 1 1 2 2 2 2 ...\n",
      "'data.frame':\t49622 obs. of  13 variables:\n",
      " $ ride_id           : Factor w/ 49622 levels \"000113AD1F802A92\",..: 26634 3153 44708 34798 25468 36799 32495 8073 10501 6558 ...\n",
      " $ rideable_type     : Factor w/ 3 levels \"classic_bike\",..: 1 1 3 1 3 3 1 1 1 1 ...\n",
      " $ started_at        : Factor w/ 48139 levels \"2021-02-01 00:55:44\",..: 16968 18803 13136 3408 26702 29923 1283 15569 41907 21999 ...\n",
      " $ ended_at          : Factor w/ 48035 levels \"2021-02-01 01:22:48\",..: 16930 18774 13123 3368 26657 29841 1229 15530 41749 21974 ...\n",
      " $ start_station_name: Factor w/ 583 levels \"\",\"2112 W Peterson Ave\",..: 233 233 121 576 487 218 316 218 316 316 ...\n",
      " $ start_station_id  : Factor w/ 583 levels \"\",\"13001\",\"13006\",..: 242 242 305 275 74 202 404 202 404 404 ...\n",
      " $ end_station_name  : Factor w/ 585 levels \"\",\"2112 W Peterson Ave\",..: 462 43 500 257 211 315 315 215 315 315 ...\n",
      " $ end_station_id    : Factor w/ 585 levels \"\",\"13001\",\"13006\",..: 291 190 441 444 575 406 406 205 406 406 ...\n",
      " $ start_lat         : num  42 42 41.9 41.9 41.8 ...\n",
      " $ start_lng         : num  -87.7 -87.7 -87.6 -87.7 -87.6 ...\n",
      " $ end_lat           : num  42 42 41.9 41.9 41.8 ...\n",
      " $ end_lng           : num  -87.7 -87.7 -87.6 -87.7 -87.6 ...\n",
      " $ member_casual     : Factor w/ 2 levels \"casual\",\"member\": 2 1 2 2 2 1 1 2 2 2 ...\n",
      "'data.frame':\t228496 obs. of  13 variables:\n",
      " $ ride_id           : Factor w/ 228496 levels \"0000465CF790D824\",..: 185433 43666 118021 136656 199406 184597 37162 217393 187975 48848 ...\n",
      " $ rideable_type     : Factor w/ 3 levels \"classic_bike\",..: 1 1 1 1 1 1 1 3 3 1 ...\n",
      " $ started_at        : Factor w/ 209025 levels \"2021-03-01 00:01:09\",..: 91217 179105 65206 61056 120307 109901 112767 143727 206151 63471 ...\n",
      " $ ended_at          : Factor w/ 208629 levels \"2021-03-01 00:06:28\",..: 91076 178832 65051 61023 120104 109810 112393 143522 205693 63322 ...\n",
      " $ start_station_name: Factor w/ 674 levels \"\",\"2112 W Peterson Ave\",..: 307 307 541 661 264 264 571 543 154 421 ...\n",
      " $ start_station_id  : Factor w/ 674 levels \"\",\"13001\",\"13006\",..: 176 176 136 614 301 301 18 609 8 524 ...\n",
      " $ end_station_name  : Factor w/ 674 levels \"\",\"2112 W Peterson Ave\",..: 576 105 279 61 113 113 352 237 259 498 ...\n",
      " $ end_station_id    : Factor w/ 674 levels \"\",\"13001\",\"13006\",..: 96 218 623 115 379 379 496 393 529 369 ...\n",
      " $ start_lat         : num  41.9 41.9 41.8 42 42 ...\n",
      " $ start_lng         : num  -87.7 -87.7 -87.6 -87.7 -87.7 ...\n",
      " $ end_lat           : num  41.9 41.9 41.8 42 42.1 ...\n",
      " $ end_lng           : num  -87.7 -87.7 -87.6 -87.6 -87.7 ...\n",
      " $ member_casual     : Factor w/ 2 levels \"casual\",\"member\": 1 1 1 1 1 1 2 2 2 2 ...\n"
     ]
    }
   ],
   "source": [
    "# Check data structures and data types for all data frames\n",
    "str(tripdata_202004)\n",
    "str(tripdata_202005)\n",
    "str(tripdata_202006)\n",
    "str(tripdata_202007)\n",
    "str(tripdata_202008)\n",
    "str(tripdata_202009)\n",
    "str(tripdata_202010)\n",
    "str(tripdata_202011)\n",
    "str(tripdata_202012)\n",
    "str(tripdata_202101)\n",
    "str(tripdata_202102)\n",
    "str(tripdata_202103)"
   ]
  },
  {
   "cell_type": "markdown",
   "id": "2a3fd3ca",
   "metadata": {
    "papermill": {
     "duration": 0.050035,
     "end_time": "2022-01-17T20:45:03.104365",
     "exception": false,
     "start_time": "2022-01-17T20:45:03.054330",
     "status": "completed"
    },
    "tags": []
   },
   "source": [
    "Columns start_station_id and end_station_id from December 2020 - March 2021 have factor as data type. Whereas data from April 2020 - November 2020 have integer as data type for the same columns. To fix this, I will convert data from April 2020 - November 2020 to factor. "
   ]
  },
  {
   "cell_type": "code",
   "execution_count": 5,
   "id": "d7481900",
   "metadata": {
    "execution": {
     "iopub.execute_input": "2022-01-17T20:45:03.210192Z",
     "iopub.status.busy": "2022-01-17T20:45:03.208072Z",
     "iopub.status.idle": "2022-01-17T20:45:05.144360Z",
     "shell.execute_reply": "2022-01-17T20:45:05.142729Z"
    },
    "papermill": {
     "duration": 1.9912,
     "end_time": "2022-01-17T20:45:05.144533",
     "exception": false,
     "start_time": "2022-01-17T20:45:03.153333",
     "status": "completed"
    },
    "tags": []
   },
   "outputs": [],
   "source": [
    "# Convert April 2020 - March 2021 start_station_id & end_station_id columns to factor data type\n",
    "tripdata_202004 <- tripdata_202004 %>% mutate(start_station_id = as.factor(start_station_id), end_station_id = as.factor(end_station_id))\n",
    "tripdata_202005 <- tripdata_202005 %>% mutate(start_station_id = as.factor(start_station_id), end_station_id = as.factor(end_station_id))\n",
    "tripdata_202006 <- tripdata_202006 %>% mutate(start_station_id = as.factor(start_station_id), end_station_id = as.factor(end_station_id))\n",
    "tripdata_202007 <- tripdata_202007 %>% mutate(start_station_id = as.factor(start_station_id), end_station_id = as.factor(end_station_id))\n",
    "tripdata_202008 <- tripdata_202008 %>% mutate(start_station_id = as.factor(start_station_id), end_station_id = as.factor(end_station_id))\n",
    "tripdata_202009 <- tripdata_202009 %>% mutate(start_station_id = as.factor(start_station_id), end_station_id = as.factor(end_station_id))\n",
    "tripdata_202010 <- tripdata_202010 %>% mutate(start_station_id = as.factor(start_station_id), end_station_id = as.factor(end_station_id))\n",
    "tripdata_202011 <- tripdata_202011 %>% mutate(start_station_id = as.factor(start_station_id), end_station_id = as.factor(end_station_id))\n"
   ]
  },
  {
   "cell_type": "markdown",
   "id": "8fff5401",
   "metadata": {
    "papermill": {
     "duration": 0.049553,
     "end_time": "2022-01-17T20:45:05.242347",
     "exception": false,
     "start_time": "2022-01-17T20:45:05.192794",
     "status": "completed"
    },
    "tags": []
   },
   "source": [
    "**Combine 12 data frames into one:**\n",
    "\n",
    "Now that all data frames have same column names, number of columns, and data types, I will combine all 12 data frames into one large data frame to make the data easier to work with. "
   ]
  },
  {
   "cell_type": "code",
   "execution_count": 6,
   "id": "e281ad82",
   "metadata": {
    "execution": {
     "iopub.execute_input": "2022-01-17T20:45:05.345095Z",
     "iopub.status.busy": "2022-01-17T20:45:05.343138Z",
     "iopub.status.idle": "2022-01-17T20:46:11.925039Z",
     "shell.execute_reply": "2022-01-17T20:46:11.923385Z"
    },
    "papermill": {
     "duration": 66.634496,
     "end_time": "2022-01-17T20:46:11.925254",
     "exception": false,
     "start_time": "2022-01-17T20:45:05.290758",
     "status": "completed"
    },
    "tags": []
   },
   "outputs": [],
   "source": [
    "# Combine 12 data frames into one single data frame \n",
    "all_tripdata <- \n",
    "    rbind(tripdata_202004,tripdata_202005,tripdata_202006,tripdata_202007,tripdata_202008,tripdata_202009,\n",
    "          tripdata_202010,tripdata_202011,tripdata_202012,tripdata_202101,tripdata_202102,tripdata_202103)"
   ]
  },
  {
   "cell_type": "markdown",
   "id": "9bee3483",
   "metadata": {
    "papermill": {
     "duration": 0.04828,
     "end_time": "2022-01-17T20:46:12.024525",
     "exception": false,
     "start_time": "2022-01-17T20:46:11.976245",
     "status": "completed"
    },
    "tags": []
   },
   "source": [
    "**Create new data frame:**\n",
    "\n",
    "Since I don't need start_lat, start_lng, end_lat, and end_lng columns for this analysis, I will create a new dataframe (all_tripdata_v2) without these data."
   ]
  },
  {
   "cell_type": "code",
   "execution_count": 7,
   "id": "4310976f",
   "metadata": {
    "execution": {
     "iopub.execute_input": "2022-01-17T20:46:12.130930Z",
     "iopub.status.busy": "2022-01-17T20:46:12.129916Z",
     "iopub.status.idle": "2022-01-17T20:46:12.151171Z",
     "shell.execute_reply": "2022-01-17T20:46:12.150100Z"
    },
    "papermill": {
     "duration": 0.076652,
     "end_time": "2022-01-17T20:46:12.151324",
     "exception": false,
     "start_time": "2022-01-17T20:46:12.074672",
     "status": "completed"
    },
    "tags": []
   },
   "outputs": [],
   "source": [
    "# Create new data frame without start_lat, start_lng, end_lat, end_lng columns\n",
    "all_tripdata_v2 <- all_tripdata %>%\n",
    "select(-(start_lat:end_lng))"
   ]
  },
  {
   "cell_type": "markdown",
   "id": "85869885",
   "metadata": {
    "papermill": {
     "duration": 0.048546,
     "end_time": "2022-01-17T20:46:12.248401",
     "exception": false,
     "start_time": "2022-01-17T20:46:12.199855",
     "status": "completed"
    },
    "tags": []
   },
   "source": [
    "# Process Phase\n"
   ]
  },
  {
   "cell_type": "markdown",
   "id": "212792f2",
   "metadata": {
    "papermill": {
     "duration": 0.049212,
     "end_time": "2022-01-17T20:46:12.348425",
     "exception": false,
     "start_time": "2022-01-17T20:46:12.299213",
     "status": "completed"
    },
    "tags": []
   },
   "source": [
    "**Inspect new data frame:**"
   ]
  },
  {
   "cell_type": "code",
   "execution_count": 8,
   "id": "208ddddc",
   "metadata": {
    "execution": {
     "iopub.execute_input": "2022-01-17T20:46:12.451980Z",
     "iopub.status.busy": "2022-01-17T20:46:12.450013Z",
     "iopub.status.idle": "2022-01-17T20:46:12.468343Z",
     "shell.execute_reply": "2022-01-17T20:46:12.466651Z"
    },
    "papermill": {
     "duration": 0.071468,
     "end_time": "2022-01-17T20:46:12.468524",
     "exception": false,
     "start_time": "2022-01-17T20:46:12.397056",
     "status": "completed"
    },
    "tags": []
   },
   "outputs": [
    {
     "data": {
      "text/html": [
       "<style>\n",
       ".list-inline {list-style: none; margin:0; padding: 0}\n",
       ".list-inline>li {display: inline-block}\n",
       ".list-inline>li:not(:last-child)::after {content: \"\\00b7\"; padding: 0 .5ex}\n",
       "</style>\n",
       "<ol class=list-inline><li>'ride_id'</li><li>'rideable_type'</li><li>'started_at'</li><li>'ended_at'</li><li>'start_station_name'</li><li>'start_station_id'</li><li>'end_station_name'</li><li>'end_station_id'</li><li>'member_casual'</li></ol>\n"
      ],
      "text/latex": [
       "\\begin{enumerate*}\n",
       "\\item 'ride\\_id'\n",
       "\\item 'rideable\\_type'\n",
       "\\item 'started\\_at'\n",
       "\\item 'ended\\_at'\n",
       "\\item 'start\\_station\\_name'\n",
       "\\item 'start\\_station\\_id'\n",
       "\\item 'end\\_station\\_name'\n",
       "\\item 'end\\_station\\_id'\n",
       "\\item 'member\\_casual'\n",
       "\\end{enumerate*}\n"
      ],
      "text/markdown": [
       "1. 'ride_id'\n",
       "2. 'rideable_type'\n",
       "3. 'started_at'\n",
       "4. 'ended_at'\n",
       "5. 'start_station_name'\n",
       "6. 'start_station_id'\n",
       "7. 'end_station_name'\n",
       "8. 'end_station_id'\n",
       "9. 'member_casual'\n",
       "\n",
       "\n"
      ],
      "text/plain": [
       "[1] \"ride_id\"            \"rideable_type\"      \"started_at\"        \n",
       "[4] \"ended_at\"           \"start_station_name\" \"start_station_id\"  \n",
       "[7] \"end_station_name\"   \"end_station_id\"     \"member_casual\"     "
      ]
     },
     "metadata": {},
     "output_type": "display_data"
    }
   ],
   "source": [
    "#Column names\n",
    "colnames(all_tripdata_v2)"
   ]
  },
  {
   "cell_type": "code",
   "execution_count": 9,
   "id": "3a717555",
   "metadata": {
    "execution": {
     "iopub.execute_input": "2022-01-17T20:46:12.572796Z",
     "iopub.status.busy": "2022-01-17T20:46:12.571610Z",
     "iopub.status.idle": "2022-01-17T20:46:12.588421Z",
     "shell.execute_reply": "2022-01-17T20:46:12.587055Z"
    },
    "papermill": {
     "duration": 0.070403,
     "end_time": "2022-01-17T20:46:12.588599",
     "exception": false,
     "start_time": "2022-01-17T20:46:12.518196",
     "status": "completed"
    },
    "tags": []
   },
   "outputs": [
    {
     "data": {
      "text/html": [
       "<style>\n",
       ".list-inline {list-style: none; margin:0; padding: 0}\n",
       ".list-inline>li {display: inline-block}\n",
       ".list-inline>li:not(:last-child)::after {content: \"\\00b7\"; padding: 0 .5ex}\n",
       "</style>\n",
       "<ol class=list-inline><li>3489748</li><li>9</li></ol>\n"
      ],
      "text/latex": [
       "\\begin{enumerate*}\n",
       "\\item 3489748\n",
       "\\item 9\n",
       "\\end{enumerate*}\n"
      ],
      "text/markdown": [
       "1. 3489748\n",
       "2. 9\n",
       "\n",
       "\n"
      ],
      "text/plain": [
       "[1] 3489748       9"
      ]
     },
     "metadata": {},
     "output_type": "display_data"
    }
   ],
   "source": [
    "#Dimensions of data frame\n",
    "dim(all_tripdata_v2)"
   ]
  },
  {
   "cell_type": "code",
   "execution_count": 10,
   "id": "25a94d8f",
   "metadata": {
    "execution": {
     "iopub.execute_input": "2022-01-17T20:46:12.695634Z",
     "iopub.status.busy": "2022-01-17T20:46:12.694109Z",
     "iopub.status.idle": "2022-01-17T20:46:12.718549Z",
     "shell.execute_reply": "2022-01-17T20:46:12.717288Z"
    },
    "papermill": {
     "duration": 0.078872,
     "end_time": "2022-01-17T20:46:12.718748",
     "exception": false,
     "start_time": "2022-01-17T20:46:12.639876",
     "status": "completed"
    },
    "tags": []
   },
   "outputs": [
    {
     "name": "stdout",
     "output_type": "stream",
     "text": [
      "'data.frame':\t3489748 obs. of  9 variables:\n",
      " $ ride_id           : Factor w/ 3489539 levels \"00009D28BA1C43CB\",..: 55878 27896 31201 14132 13221 17743 53958 83622 52725 56115 ...\n",
      " $ rideable_type     : Factor w/ 3 levels \"docked_bike\",..: 1 1 1 1 1 1 1 1 1 1 ...\n",
      " $ started_at        : Factor w/ 3040228 levels \"2020-04-01 00:00:30\",..: 71395 42635 1723 16637 43704 80306 3344 16464 38494 9169 ...\n",
      " $ ended_at          : Factor w/ 3027775 levels \"2020-04-01 00:10:45\",..: 71198 42488 1689 16514 43689 80020 3292 16700 38366 9137 ...\n",
      " $ start_station_name: Factor w/ 709 levels \"2112 W Peterson Ave\",..: 207 201 367 65 456 382 527 410 329 287 ...\n",
      " $ start_station_id  : Factor w/ 1260 levels \"2\",\"3\",\"4\",\"5\",..: 75 465 128 198 112 157 32 397 566 346 ...\n",
      " $ end_station_name  : Factor w/ 707 levels \"\",\"2112 W Peterson Ave\",..: 345 303 276 593 480 526 223 572 322 96 ...\n",
      " $ end_station_id    : Factor w/ 1260 levels \"2\",\"3\",\"5\",\"6\",..: 136 458 233 589 299 31 569 348 333 467 ...\n",
      " $ member_casual     : Factor w/ 2 levels \"casual\",\"member\": 2 2 2 2 1 2 2 1 1 2 ...\n"
     ]
    }
   ],
   "source": [
    "#List of columns and data types\n",
    "str(all_tripdata_v2)"
   ]
  },
  {
   "cell_type": "markdown",
   "id": "9321344f",
   "metadata": {
    "papermill": {
     "duration": 0.050924,
     "end_time": "2022-01-17T20:46:12.821181",
     "exception": false,
     "start_time": "2022-01-17T20:46:12.770257",
     "status": "completed"
    },
    "tags": []
   },
   "source": [
    "**Convert data type**"
   ]
  },
  {
   "cell_type": "code",
   "execution_count": 11,
   "id": "8928c69b",
   "metadata": {
    "execution": {
     "iopub.execute_input": "2022-01-17T20:46:12.932582Z",
     "iopub.status.busy": "2022-01-17T20:46:12.930552Z",
     "iopub.status.idle": "2022-01-17T20:46:16.492193Z",
     "shell.execute_reply": "2022-01-17T20:46:16.490713Z"
    },
    "papermill": {
     "duration": 3.620861,
     "end_time": "2022-01-17T20:46:16.492471",
     "exception": false,
     "start_time": "2022-01-17T20:46:12.871610",
     "status": "completed"
    },
    "tags": []
   },
   "outputs": [],
   "source": [
    "# Convert started_at and ended_at columns to datetime data type\n",
    "all_tripdata_v2[['started_at']] <- ymd_hms(all_tripdata_v2[['started_at']])\n",
    "all_tripdata_v2[['ended_at']] <- ymd_hms(all_tripdata_v2[['ended_at']])"
   ]
  },
  {
   "cell_type": "markdown",
   "id": "26548222",
   "metadata": {
    "papermill": {
     "duration": 0.05189,
     "end_time": "2022-01-17T20:46:16.596791",
     "exception": false,
     "start_time": "2022-01-17T20:46:16.544901",
     "status": "completed"
    },
    "tags": []
   },
   "source": [
    "**Add new columns to data frame**"
   ]
  },
  {
   "cell_type": "code",
   "execution_count": 12,
   "id": "695210aa",
   "metadata": {
    "execution": {
     "iopub.execute_input": "2022-01-17T20:46:16.703389Z",
     "iopub.status.busy": "2022-01-17T20:46:16.701500Z",
     "iopub.status.idle": "2022-01-17T20:46:24.791854Z",
     "shell.execute_reply": "2022-01-17T20:46:24.790054Z"
    },
    "papermill": {
     "duration": 8.145149,
     "end_time": "2022-01-17T20:46:24.792048",
     "exception": false,
     "start_time": "2022-01-17T20:46:16.646899",
     "status": "completed"
    },
    "tags": []
   },
   "outputs": [],
   "source": [
    "# ride_length column in minutes\n",
    "all_tripdata_v2 <- all_tripdata_v2 %>% mutate(ride_length = signif(difftime(ended_at, started_at, units = 'mins'),2))\n",
    "\n",
    "# day_of_week column\n",
    "all_tripdata_v2 <- all_tripdata_v2 %>% mutate(day_of_week = weekdays(started_at))\n",
    "\n",
    "# month column\n",
    "all_tripdata_v2 <- all_tripdata_v2 %>% mutate(all_tripdata_v2, date = as.Date(all_tripdata_v2$started_at)) %>%\n",
    "    mutate(month = format(as.Date(date), \"%B\"))"
   ]
  },
  {
   "cell_type": "markdown",
   "id": "81120952",
   "metadata": {
    "papermill": {
     "duration": 0.056767,
     "end_time": "2022-01-17T20:46:24.903087",
     "exception": false,
     "start_time": "2022-01-17T20:46:24.846320",
     "status": "completed"
    },
    "tags": []
   },
   "source": [
    "**Remove bad data**\n",
    "- ride length <= 0 minute\n",
    "- ride length > 1440 minutes (>24hrs)\n",
    "\n",
    "I will create a new data frame (all_tripdata_v3) without these data points."
   ]
  },
  {
   "cell_type": "code",
   "execution_count": 13,
   "id": "7e56573f",
   "metadata": {
    "execution": {
     "iopub.execute_input": "2022-01-17T20:46:25.023677Z",
     "iopub.status.busy": "2022-01-17T20:46:25.021832Z",
     "iopub.status.idle": "2022-01-17T20:46:26.168644Z",
     "shell.execute_reply": "2022-01-17T20:46:26.167374Z"
    },
    "papermill": {
     "duration": 1.20961,
     "end_time": "2022-01-17T20:46:26.168793",
     "exception": false,
     "start_time": "2022-01-17T20:46:24.959183",
     "status": "completed"
    },
    "tags": []
   },
   "outputs": [],
   "source": [
    "#Create a new data frame without records that have ride length <= zero minute OR > 1440 minutes\n",
    "all_tripdata_v3 <- all_tripdata_v2[!(all_tripdata_v2$ride_length <= 0 | all_tripdata_v2$ride_length > 1440),]"
   ]
  },
  {
   "cell_type": "markdown",
   "id": "a1c6ce05",
   "metadata": {
    "papermill": {
     "duration": 0.050532,
     "end_time": "2022-01-17T20:46:26.269821",
     "exception": false,
     "start_time": "2022-01-17T20:46:26.219289",
     "status": "completed"
    },
    "tags": []
   },
   "source": [
    "# Analyze Phase"
   ]
  },
  {
   "cell_type": "code",
   "execution_count": 14,
   "id": "19f5502e",
   "metadata": {
    "execution": {
     "iopub.execute_input": "2022-01-17T20:46:26.379231Z",
     "iopub.status.busy": "2022-01-17T20:46:26.377931Z",
     "iopub.status.idle": "2022-01-17T20:46:26.849049Z",
     "shell.execute_reply": "2022-01-17T20:46:26.847670Z"
    },
    "papermill": {
     "duration": 0.527879,
     "end_time": "2022-01-17T20:46:26.849201",
     "exception": false,
     "start_time": "2022-01-17T20:46:26.321322",
     "status": "completed"
    },
    "tags": []
   },
   "outputs": [
    {
     "data": {
      "text/html": [
       "<table class=\"dataframe\">\n",
       "<caption>A data.frame: 1 × 4</caption>\n",
       "<thead>\n",
       "\t<tr><th scope=col>min_ride_length</th><th scope=col>max_ride_length</th><th scope=col>median_ride_length</th><th scope=col>mean_ride_length</th></tr>\n",
       "\t<tr><th scope=col>&lt;drtn&gt;</th><th scope=col>&lt;drtn&gt;</th><th scope=col>&lt;drtn&gt;</th><th scope=col>&lt;drtn&gt;</th></tr>\n",
       "</thead>\n",
       "<tbody>\n",
       "\t<tr><td>0.017 mins</td><td>1400 mins</td><td>15 mins</td><td>24.12612 mins</td></tr>\n",
       "</tbody>\n",
       "</table>\n"
      ],
      "text/latex": [
       "A data.frame: 1 × 4\n",
       "\\begin{tabular}{llll}\n",
       " min\\_ride\\_length & max\\_ride\\_length & median\\_ride\\_length & mean\\_ride\\_length\\\\\n",
       " <drtn> & <drtn> & <drtn> & <drtn>\\\\\n",
       "\\hline\n",
       "\t 0.017 mins & 1400 mins & 15 mins & 24.12612 mins\\\\\n",
       "\\end{tabular}\n"
      ],
      "text/markdown": [
       "\n",
       "A data.frame: 1 × 4\n",
       "\n",
       "| min_ride_length &lt;drtn&gt; | max_ride_length &lt;drtn&gt; | median_ride_length &lt;drtn&gt; | mean_ride_length &lt;drtn&gt; |\n",
       "|---|---|---|---|\n",
       "| 0.017 mins | 1400 mins | 15 mins | 24.12612 mins |\n",
       "\n"
      ],
      "text/plain": [
       "  min_ride_length max_ride_length median_ride_length mean_ride_length\n",
       "1 0.017 mins      1400 mins       15 mins            24.12612 mins   "
      ]
     },
     "metadata": {},
     "output_type": "display_data"
    }
   ],
   "source": [
    "#Min, Max, Median, Mean values for ride length\n",
    "all_tripdata_v3 %>%\n",
    "    summarise(min_ride_length = min(ride_length), max_ride_length = max(ride_length), median_ride_length = median(ride_length), mean_ride_length = mean(ride_length))"
   ]
  },
  {
   "cell_type": "code",
   "execution_count": 15,
   "id": "90c6324d",
   "metadata": {
    "execution": {
     "iopub.execute_input": "2022-01-17T20:46:26.957588Z",
     "iopub.status.busy": "2022-01-17T20:46:26.955777Z",
     "iopub.status.idle": "2022-01-17T20:46:30.435967Z",
     "shell.execute_reply": "2022-01-17T20:46:30.434335Z"
    },
    "papermill": {
     "duration": 3.535774,
     "end_time": "2022-01-17T20:46:30.436236",
     "exception": false,
     "start_time": "2022-01-17T20:46:26.900462",
     "status": "completed"
    },
    "tags": []
   },
   "outputs": [
    {
     "data": {
      "text/html": [
       "<table class=\"dataframe\">\n",
       "<caption>A data.frame: 2 × 2</caption>\n",
       "<thead>\n",
       "\t<tr><th scope=col>all_tripdata_v3$member_casual</th><th scope=col>all_tripdata_v3$ride_length</th></tr>\n",
       "\t<tr><th scope=col>&lt;fct&gt;</th><th scope=col>&lt;drtn&gt;</th></tr>\n",
       "</thead>\n",
       "<tbody>\n",
       "\t<tr><td>casual</td><td>36.39475 </td></tr>\n",
       "\t<tr><td>member</td><td>15.60754 </td></tr>\n",
       "</tbody>\n",
       "</table>\n"
      ],
      "text/latex": [
       "A data.frame: 2 × 2\n",
       "\\begin{tabular}{ll}\n",
       " all\\_tripdata\\_v3\\$member\\_casual & all\\_tripdata\\_v3\\$ride\\_length\\\\\n",
       " <fct> & <drtn>\\\\\n",
       "\\hline\n",
       "\t casual & 36.39475 \\\\\n",
       "\t member & 15.60754 \\\\\n",
       "\\end{tabular}\n"
      ],
      "text/markdown": [
       "\n",
       "A data.frame: 2 × 2\n",
       "\n",
       "| all_tripdata_v3$member_casual &lt;fct&gt; | all_tripdata_v3$ride_length &lt;drtn&gt; |\n",
       "|---|---|\n",
       "| casual | 36.39475  |\n",
       "| member | 15.60754  |\n",
       "\n"
      ],
      "text/plain": [
       "  all_tripdata_v3$member_casual all_tripdata_v3$ride_length\n",
       "1 casual                        36.39475                   \n",
       "2 member                        15.60754                   "
      ]
     },
     "metadata": {},
     "output_type": "display_data"
    }
   ],
   "source": [
    "#Average ride length between casual and member riders\n",
    "aggregate(all_tripdata_v3$ride_length ~ all_tripdata_v3$member_casual,FUN=mean)"
   ]
  },
  {
   "cell_type": "code",
   "execution_count": 16,
   "id": "1df47b99",
   "metadata": {
    "execution": {
     "iopub.execute_input": "2022-01-17T20:46:30.547951Z",
     "iopub.status.busy": "2022-01-17T20:46:30.546364Z",
     "iopub.status.idle": "2022-01-17T20:46:37.796025Z",
     "shell.execute_reply": "2022-01-17T20:46:37.794599Z"
    },
    "papermill": {
     "duration": 7.308303,
     "end_time": "2022-01-17T20:46:37.796205",
     "exception": false,
     "start_time": "2022-01-17T20:46:30.487902",
     "status": "completed"
    },
    "tags": []
   },
   "outputs": [
    {
     "data": {
      "text/html": [
       "<table class=\"dataframe\">\n",
       "<caption>A data.frame: 2 × 2</caption>\n",
       "<thead>\n",
       "\t<tr><th scope=col>all_tripdata_v3$member_casual</th><th scope=col>all_tripdata_v3$ride_length</th></tr>\n",
       "\t<tr><th scope=col>&lt;fct&gt;</th><th scope=col>&lt;drtn&gt;</th></tr>\n",
       "</thead>\n",
       "<tbody>\n",
       "\t<tr><td>casual</td><td>21 </td></tr>\n",
       "\t<tr><td>member</td><td>11 </td></tr>\n",
       "</tbody>\n",
       "</table>\n"
      ],
      "text/latex": [
       "A data.frame: 2 × 2\n",
       "\\begin{tabular}{ll}\n",
       " all\\_tripdata\\_v3\\$member\\_casual & all\\_tripdata\\_v3\\$ride\\_length\\\\\n",
       " <fct> & <drtn>\\\\\n",
       "\\hline\n",
       "\t casual & 21 \\\\\n",
       "\t member & 11 \\\\\n",
       "\\end{tabular}\n"
      ],
      "text/markdown": [
       "\n",
       "A data.frame: 2 × 2\n",
       "\n",
       "| all_tripdata_v3$member_casual &lt;fct&gt; | all_tripdata_v3$ride_length &lt;drtn&gt; |\n",
       "|---|---|\n",
       "| casual | 21  |\n",
       "| member | 11  |\n",
       "\n"
      ],
      "text/plain": [
       "  all_tripdata_v3$member_casual all_tripdata_v3$ride_length\n",
       "1 casual                        21                         \n",
       "2 member                        11                         "
      ]
     },
     "metadata": {},
     "output_type": "display_data"
    }
   ],
   "source": [
    "#Median ride length between casual and member riders\n",
    "aggregate(all_tripdata_v3$ride_length ~ all_tripdata_v3$member_casual,FUN=median)"
   ]
  },
  {
   "cell_type": "code",
   "execution_count": 17,
   "id": "573a507c",
   "metadata": {
    "execution": {
     "iopub.execute_input": "2022-01-17T20:46:37.908950Z",
     "iopub.status.busy": "2022-01-17T20:46:37.907338Z",
     "iopub.status.idle": "2022-01-17T20:46:40.061208Z",
     "shell.execute_reply": "2022-01-17T20:46:40.059863Z"
    },
    "papermill": {
     "duration": 2.211554,
     "end_time": "2022-01-17T20:46:40.061365",
     "exception": false,
     "start_time": "2022-01-17T20:46:37.849811",
     "status": "completed"
    },
    "tags": []
   },
   "outputs": [
    {
     "data": {
      "text/html": [
       "<table class=\"dataframe\">\n",
       "<caption>A data.frame: 2 × 2</caption>\n",
       "<thead>\n",
       "\t<tr><th scope=col>all_tripdata_v3$member_casual</th><th scope=col>all_tripdata_v3$ride_length</th></tr>\n",
       "\t<tr><th scope=col>&lt;fct&gt;</th><th scope=col>&lt;drtn&gt;</th></tr>\n",
       "</thead>\n",
       "<tbody>\n",
       "\t<tr><td>casual</td><td>0.017 </td></tr>\n",
       "\t<tr><td>member</td><td>0.017 </td></tr>\n",
       "</tbody>\n",
       "</table>\n"
      ],
      "text/latex": [
       "A data.frame: 2 × 2\n",
       "\\begin{tabular}{ll}\n",
       " all\\_tripdata\\_v3\\$member\\_casual & all\\_tripdata\\_v3\\$ride\\_length\\\\\n",
       " <fct> & <drtn>\\\\\n",
       "\\hline\n",
       "\t casual & 0.017 \\\\\n",
       "\t member & 0.017 \\\\\n",
       "\\end{tabular}\n"
      ],
      "text/markdown": [
       "\n",
       "A data.frame: 2 × 2\n",
       "\n",
       "| all_tripdata_v3$member_casual &lt;fct&gt; | all_tripdata_v3$ride_length &lt;drtn&gt; |\n",
       "|---|---|\n",
       "| casual | 0.017  |\n",
       "| member | 0.017  |\n",
       "\n"
      ],
      "text/plain": [
       "  all_tripdata_v3$member_casual all_tripdata_v3$ride_length\n",
       "1 casual                        0.017                      \n",
       "2 member                        0.017                      "
      ]
     },
     "metadata": {},
     "output_type": "display_data"
    }
   ],
   "source": [
    "#Min ride length between casual and member riders\n",
    "aggregate(all_tripdata_v3$ride_length ~ all_tripdata_v3$member_casual,FUN=min)"
   ]
  },
  {
   "cell_type": "code",
   "execution_count": 18,
   "id": "22aefffc",
   "metadata": {
    "execution": {
     "iopub.execute_input": "2022-01-17T20:46:40.173107Z",
     "iopub.status.busy": "2022-01-17T20:46:40.171368Z",
     "iopub.status.idle": "2022-01-17T20:46:46.993625Z",
     "shell.execute_reply": "2022-01-17T20:46:46.992079Z"
    },
    "papermill": {
     "duration": 6.879467,
     "end_time": "2022-01-17T20:46:46.993874",
     "exception": false,
     "start_time": "2022-01-17T20:46:40.114407",
     "status": "completed"
    },
    "tags": []
   },
   "outputs": [
    {
     "data": {
      "text/html": [
       "<table class=\"dataframe\">\n",
       "<caption>A data.frame: 2 × 2</caption>\n",
       "<thead>\n",
       "\t<tr><th scope=col>all_tripdata_v3$member_casual</th><th scope=col>all_tripdata_v3$ride_length</th></tr>\n",
       "\t<tr><th scope=col>&lt;fct&gt;</th><th scope=col>&lt;drtn&gt;</th></tr>\n",
       "</thead>\n",
       "<tbody>\n",
       "\t<tr><td>casual</td><td>1400 </td></tr>\n",
       "\t<tr><td>member</td><td>1400 </td></tr>\n",
       "</tbody>\n",
       "</table>\n"
      ],
      "text/latex": [
       "A data.frame: 2 × 2\n",
       "\\begin{tabular}{ll}\n",
       " all\\_tripdata\\_v3\\$member\\_casual & all\\_tripdata\\_v3\\$ride\\_length\\\\\n",
       " <fct> & <drtn>\\\\\n",
       "\\hline\n",
       "\t casual & 1400 \\\\\n",
       "\t member & 1400 \\\\\n",
       "\\end{tabular}\n"
      ],
      "text/markdown": [
       "\n",
       "A data.frame: 2 × 2\n",
       "\n",
       "| all_tripdata_v3$member_casual &lt;fct&gt; | all_tripdata_v3$ride_length &lt;drtn&gt; |\n",
       "|---|---|\n",
       "| casual | 1400  |\n",
       "| member | 1400  |\n",
       "\n"
      ],
      "text/plain": [
       "  all_tripdata_v3$member_casual all_tripdata_v3$ride_length\n",
       "1 casual                        1400                       \n",
       "2 member                        1400                       "
      ]
     },
     "metadata": {},
     "output_type": "display_data"
    }
   ],
   "source": [
    "#Max ride length between casual and member riders\n",
    "aggregate(all_tripdata_v3$ride_length ~ all_tripdata_v3$member_casual,FUN=max)"
   ]
  },
  {
   "cell_type": "markdown",
   "id": "01b9a83e",
   "metadata": {
    "papermill": {
     "duration": 0.054806,
     "end_time": "2022-01-17T20:46:47.103431",
     "exception": false,
     "start_time": "2022-01-17T20:46:47.048625",
     "status": "completed"
    },
    "tags": []
   },
   "source": [
    "**Day of week analysis**"
   ]
  },
  {
   "cell_type": "code",
   "execution_count": 19,
   "id": "73269810",
   "metadata": {
    "execution": {
     "iopub.execute_input": "2022-01-17T20:46:47.249124Z",
     "iopub.status.busy": "2022-01-17T20:46:47.247426Z",
     "iopub.status.idle": "2022-01-17T20:46:47.297614Z",
     "shell.execute_reply": "2022-01-17T20:46:47.296151Z"
    },
    "papermill": {
     "duration": 0.108869,
     "end_time": "2022-01-17T20:46:47.297809",
     "exception": false,
     "start_time": "2022-01-17T20:46:47.188940",
     "status": "completed"
    },
    "tags": []
   },
   "outputs": [],
   "source": [
    "#Assign the correct order to each day of the week\n",
    "all_tripdata_v3$day_of_week <- \n",
    "    ordered(all_tripdata_v3$day_of_week, levels = c('Monday', 'Tuesday', 'Wednesday', 'Thursday', 'Friday', 'Saturday', 'Sunday'))"
   ]
  },
  {
   "cell_type": "code",
   "execution_count": 20,
   "id": "d9828213",
   "metadata": {
    "execution": {
     "iopub.execute_input": "2022-01-17T20:46:47.410744Z",
     "iopub.status.busy": "2022-01-17T20:46:47.409360Z",
     "iopub.status.idle": "2022-01-17T20:46:50.574264Z",
     "shell.execute_reply": "2022-01-17T20:46:50.573030Z"
    },
    "papermill": {
     "duration": 3.223068,
     "end_time": "2022-01-17T20:46:50.574459",
     "exception": false,
     "start_time": "2022-01-17T20:46:47.351391",
     "status": "completed"
    },
    "tags": []
   },
   "outputs": [
    {
     "data": {
      "text/html": [
       "<table class=\"dataframe\">\n",
       "<caption>A data.frame: 14 × 3</caption>\n",
       "<thead>\n",
       "\t<tr><th scope=col>all_tripdata_v3$member_casual</th><th scope=col>all_tripdata_v3$day_of_week</th><th scope=col>all_tripdata_v3$ride_length</th></tr>\n",
       "\t<tr><th scope=col>&lt;fct&gt;</th><th scope=col>&lt;ord&gt;</th><th scope=col>&lt;drtn&gt;</th></tr>\n",
       "</thead>\n",
       "<tbody>\n",
       "\t<tr><td>casual</td><td>Monday   </td><td>35.91330 </td></tr>\n",
       "\t<tr><td>member</td><td>Monday   </td><td>14.83424 </td></tr>\n",
       "\t<tr><td>casual</td><td>Tuesday  </td><td>33.58109 </td></tr>\n",
       "\t<tr><td>member</td><td>Tuesday  </td><td>14.71491 </td></tr>\n",
       "\t<tr><td>casual</td><td>Wednesday</td><td>32.42852 </td></tr>\n",
       "\t<tr><td>member</td><td>Wednesday</td><td>14.81453 </td></tr>\n",
       "\t<tr><td>casual</td><td>Thursday </td><td>33.02426 </td></tr>\n",
       "\t<tr><td>member</td><td>Thursday </td><td>14.81387 </td></tr>\n",
       "\t<tr><td>casual</td><td>Friday   </td><td>34.78251 </td></tr>\n",
       "\t<tr><td>member</td><td>Friday   </td><td>15.38270 </td></tr>\n",
       "\t<tr><td>casual</td><td>Saturday </td><td>39.07379 </td></tr>\n",
       "\t<tr><td>member</td><td>Saturday </td><td>17.26600 </td></tr>\n",
       "\t<tr><td>casual</td><td>Sunday   </td><td>40.62439 </td></tr>\n",
       "\t<tr><td>member</td><td>Sunday   </td><td>17.39426 </td></tr>\n",
       "</tbody>\n",
       "</table>\n"
      ],
      "text/latex": [
       "A data.frame: 14 × 3\n",
       "\\begin{tabular}{lll}\n",
       " all\\_tripdata\\_v3\\$member\\_casual & all\\_tripdata\\_v3\\$day\\_of\\_week & all\\_tripdata\\_v3\\$ride\\_length\\\\\n",
       " <fct> & <ord> & <drtn>\\\\\n",
       "\\hline\n",
       "\t casual & Monday    & 35.91330 \\\\\n",
       "\t member & Monday    & 14.83424 \\\\\n",
       "\t casual & Tuesday   & 33.58109 \\\\\n",
       "\t member & Tuesday   & 14.71491 \\\\\n",
       "\t casual & Wednesday & 32.42852 \\\\\n",
       "\t member & Wednesday & 14.81453 \\\\\n",
       "\t casual & Thursday  & 33.02426 \\\\\n",
       "\t member & Thursday  & 14.81387 \\\\\n",
       "\t casual & Friday    & 34.78251 \\\\\n",
       "\t member & Friday    & 15.38270 \\\\\n",
       "\t casual & Saturday  & 39.07379 \\\\\n",
       "\t member & Saturday  & 17.26600 \\\\\n",
       "\t casual & Sunday    & 40.62439 \\\\\n",
       "\t member & Sunday    & 17.39426 \\\\\n",
       "\\end{tabular}\n"
      ],
      "text/markdown": [
       "\n",
       "A data.frame: 14 × 3\n",
       "\n",
       "| all_tripdata_v3$member_casual &lt;fct&gt; | all_tripdata_v3$day_of_week &lt;ord&gt; | all_tripdata_v3$ride_length &lt;drtn&gt; |\n",
       "|---|---|---|\n",
       "| casual | Monday    | 35.91330  |\n",
       "| member | Monday    | 14.83424  |\n",
       "| casual | Tuesday   | 33.58109  |\n",
       "| member | Tuesday   | 14.71491  |\n",
       "| casual | Wednesday | 32.42852  |\n",
       "| member | Wednesday | 14.81453  |\n",
       "| casual | Thursday  | 33.02426  |\n",
       "| member | Thursday  | 14.81387  |\n",
       "| casual | Friday    | 34.78251  |\n",
       "| member | Friday    | 15.38270  |\n",
       "| casual | Saturday  | 39.07379  |\n",
       "| member | Saturday  | 17.26600  |\n",
       "| casual | Sunday    | 40.62439  |\n",
       "| member | Sunday    | 17.39426  |\n",
       "\n"
      ],
      "text/plain": [
       "   all_tripdata_v3$member_casual all_tripdata_v3$day_of_week\n",
       "1  casual                        Monday                     \n",
       "2  member                        Monday                     \n",
       "3  casual                        Tuesday                    \n",
       "4  member                        Tuesday                    \n",
       "5  casual                        Wednesday                  \n",
       "6  member                        Wednesday                  \n",
       "7  casual                        Thursday                   \n",
       "8  member                        Thursday                   \n",
       "9  casual                        Friday                     \n",
       "10 member                        Friday                     \n",
       "11 casual                        Saturday                   \n",
       "12 member                        Saturday                   \n",
       "13 casual                        Sunday                     \n",
       "14 member                        Sunday                     \n",
       "   all_tripdata_v3$ride_length\n",
       "1  35.91330                   \n",
       "2  14.83424                   \n",
       "3  33.58109                   \n",
       "4  14.71491                   \n",
       "5  32.42852                   \n",
       "6  14.81453                   \n",
       "7  33.02426                   \n",
       "8  14.81387                   \n",
       "9  34.78251                   \n",
       "10 15.38270                   \n",
       "11 39.07379                   \n",
       "12 17.26600                   \n",
       "13 40.62439                   \n",
       "14 17.39426                   "
      ]
     },
     "metadata": {},
     "output_type": "display_data"
    }
   ],
   "source": [
    "#Average ride length between casual and member riders for each day of the week\n",
    "aggregate(all_tripdata_v3$ride_length ~ all_tripdata_v3$member_casual + all_tripdata_v3$day_of_week,FUN=mean)"
   ]
  },
  {
   "cell_type": "code",
   "execution_count": 21,
   "id": "1adb3133",
   "metadata": {
    "execution": {
     "iopub.execute_input": "2022-01-17T20:46:50.715352Z",
     "iopub.status.busy": "2022-01-17T20:46:50.714164Z",
     "iopub.status.idle": "2022-01-17T20:46:54.079328Z",
     "shell.execute_reply": "2022-01-17T20:46:54.077638Z"
    },
    "papermill": {
     "duration": 3.443843,
     "end_time": "2022-01-17T20:46:54.079504",
     "exception": false,
     "start_time": "2022-01-17T20:46:50.635661",
     "status": "completed"
    },
    "tags": []
   },
   "outputs": [
    {
     "data": {
      "text/html": [
       "<table class=\"dataframe\">\n",
       "<caption>A data.frame: 14 × 3</caption>\n",
       "<thead>\n",
       "\t<tr><th scope=col>all_tripdata_v3$member_casual</th><th scope=col>all_tripdata_v3$day_of_week</th><th scope=col>all_tripdata_v3$ride_length</th></tr>\n",
       "\t<tr><th scope=col>&lt;fct&gt;</th><th scope=col>&lt;ord&gt;</th><th scope=col>&lt;drtn&gt;</th></tr>\n",
       "</thead>\n",
       "<tbody>\n",
       "\t<tr><td>casual</td><td>Monday   </td><td>21 </td></tr>\n",
       "\t<tr><td>member</td><td>Monday   </td><td>11 </td></tr>\n",
       "\t<tr><td>casual</td><td>Tuesday  </td><td>19 </td></tr>\n",
       "\t<tr><td>member</td><td>Tuesday  </td><td>11 </td></tr>\n",
       "\t<tr><td>casual</td><td>Wednesday</td><td>19 </td></tr>\n",
       "\t<tr><td>member</td><td>Wednesday</td><td>11 </td></tr>\n",
       "\t<tr><td>casual</td><td>Thursday </td><td>19 </td></tr>\n",
       "\t<tr><td>member</td><td>Thursday </td><td>11 </td></tr>\n",
       "\t<tr><td>casual</td><td>Friday   </td><td>20 </td></tr>\n",
       "\t<tr><td>member</td><td>Friday   </td><td>11 </td></tr>\n",
       "\t<tr><td>casual</td><td>Saturday </td><td>23 </td></tr>\n",
       "\t<tr><td>member</td><td>Saturday </td><td>13 </td></tr>\n",
       "\t<tr><td>casual</td><td>Sunday   </td><td>24 </td></tr>\n",
       "\t<tr><td>member</td><td>Sunday   </td><td>13 </td></tr>\n",
       "</tbody>\n",
       "</table>\n"
      ],
      "text/latex": [
       "A data.frame: 14 × 3\n",
       "\\begin{tabular}{lll}\n",
       " all\\_tripdata\\_v3\\$member\\_casual & all\\_tripdata\\_v3\\$day\\_of\\_week & all\\_tripdata\\_v3\\$ride\\_length\\\\\n",
       " <fct> & <ord> & <drtn>\\\\\n",
       "\\hline\n",
       "\t casual & Monday    & 21 \\\\\n",
       "\t member & Monday    & 11 \\\\\n",
       "\t casual & Tuesday   & 19 \\\\\n",
       "\t member & Tuesday   & 11 \\\\\n",
       "\t casual & Wednesday & 19 \\\\\n",
       "\t member & Wednesday & 11 \\\\\n",
       "\t casual & Thursday  & 19 \\\\\n",
       "\t member & Thursday  & 11 \\\\\n",
       "\t casual & Friday    & 20 \\\\\n",
       "\t member & Friday    & 11 \\\\\n",
       "\t casual & Saturday  & 23 \\\\\n",
       "\t member & Saturday  & 13 \\\\\n",
       "\t casual & Sunday    & 24 \\\\\n",
       "\t member & Sunday    & 13 \\\\\n",
       "\\end{tabular}\n"
      ],
      "text/markdown": [
       "\n",
       "A data.frame: 14 × 3\n",
       "\n",
       "| all_tripdata_v3$member_casual &lt;fct&gt; | all_tripdata_v3$day_of_week &lt;ord&gt; | all_tripdata_v3$ride_length &lt;drtn&gt; |\n",
       "|---|---|---|\n",
       "| casual | Monday    | 21  |\n",
       "| member | Monday    | 11  |\n",
       "| casual | Tuesday   | 19  |\n",
       "| member | Tuesday   | 11  |\n",
       "| casual | Wednesday | 19  |\n",
       "| member | Wednesday | 11  |\n",
       "| casual | Thursday  | 19  |\n",
       "| member | Thursday  | 11  |\n",
       "| casual | Friday    | 20  |\n",
       "| member | Friday    | 11  |\n",
       "| casual | Saturday  | 23  |\n",
       "| member | Saturday  | 13  |\n",
       "| casual | Sunday    | 24  |\n",
       "| member | Sunday    | 13  |\n",
       "\n"
      ],
      "text/plain": [
       "   all_tripdata_v3$member_casual all_tripdata_v3$day_of_week\n",
       "1  casual                        Monday                     \n",
       "2  member                        Monday                     \n",
       "3  casual                        Tuesday                    \n",
       "4  member                        Tuesday                    \n",
       "5  casual                        Wednesday                  \n",
       "6  member                        Wednesday                  \n",
       "7  casual                        Thursday                   \n",
       "8  member                        Thursday                   \n",
       "9  casual                        Friday                     \n",
       "10 member                        Friday                     \n",
       "11 casual                        Saturday                   \n",
       "12 member                        Saturday                   \n",
       "13 casual                        Sunday                     \n",
       "14 member                        Sunday                     \n",
       "   all_tripdata_v3$ride_length\n",
       "1  21                         \n",
       "2  11                         \n",
       "3  19                         \n",
       "4  11                         \n",
       "5  19                         \n",
       "6  11                         \n",
       "7  19                         \n",
       "8  11                         \n",
       "9  20                         \n",
       "10 11                         \n",
       "11 23                         \n",
       "12 13                         \n",
       "13 24                         \n",
       "14 13                         "
      ]
     },
     "metadata": {},
     "output_type": "display_data"
    }
   ],
   "source": [
    "#Median ride length between casual and member riders for each day of the week\n",
    "aggregate(all_tripdata_v3$ride_length ~ all_tripdata_v3$member_casual + all_tripdata_v3$day_of_week,FUN=median)"
   ]
  },
  {
   "cell_type": "code",
   "execution_count": 22,
   "id": "7928bf3f",
   "metadata": {
    "execution": {
     "iopub.execute_input": "2022-01-17T20:46:54.196231Z",
     "iopub.status.busy": "2022-01-17T20:46:54.194874Z",
     "iopub.status.idle": "2022-01-17T20:46:54.321664Z",
     "shell.execute_reply": "2022-01-17T20:46:54.319980Z"
    },
    "papermill": {
     "duration": 0.186771,
     "end_time": "2022-01-17T20:46:54.322009",
     "exception": false,
     "start_time": "2022-01-17T20:46:54.135238",
     "status": "completed"
    },
    "tags": []
   },
   "outputs": [
    {
     "data": {
      "text/html": [
       "<table class=\"dataframe\">\n",
       "<caption>A tibble: 14 × 3</caption>\n",
       "<thead>\n",
       "\t<tr><th scope=col>member_casual</th><th scope=col>day_of_week</th><th scope=col>number_of_ride</th></tr>\n",
       "\t<tr><th scope=col>&lt;fct&gt;</th><th scope=col>&lt;ord&gt;</th><th scope=col>&lt;int&gt;</th></tr>\n",
       "</thead>\n",
       "<tbody>\n",
       "\t<tr><td>casual</td><td>Monday   </td><td>150828</td></tr>\n",
       "\t<tr><td>member</td><td>Monday   </td><td>267268</td></tr>\n",
       "\t<tr><td>casual</td><td>Tuesday  </td><td>145027</td></tr>\n",
       "\t<tr><td>member</td><td>Tuesday  </td><td>284289</td></tr>\n",
       "\t<tr><td>casual</td><td>Wednesday</td><td>158112</td></tr>\n",
       "\t<tr><td>member</td><td>Wednesday</td><td>305024</td></tr>\n",
       "\t<tr><td>casual</td><td>Thursday </td><td>166069</td></tr>\n",
       "\t<tr><td>member</td><td>Thursday </td><td>300381</td></tr>\n",
       "\t<tr><td>casual</td><td>Friday   </td><td>208180</td></tr>\n",
       "\t<tr><td>member</td><td>Friday   </td><td>306298</td></tr>\n",
       "\t<tr><td>casual</td><td>Saturday </td><td>334498</td></tr>\n",
       "\t<tr><td>member</td><td>Saturday </td><td>323028</td></tr>\n",
       "\t<tr><td>casual</td><td>Sunday   </td><td>261730</td></tr>\n",
       "\t<tr><td>member</td><td>Sunday   </td><td>265226</td></tr>\n",
       "</tbody>\n",
       "</table>\n"
      ],
      "text/latex": [
       "A tibble: 14 × 3\n",
       "\\begin{tabular}{lll}\n",
       " member\\_casual & day\\_of\\_week & number\\_of\\_ride\\\\\n",
       " <fct> & <ord> & <int>\\\\\n",
       "\\hline\n",
       "\t casual & Monday    & 150828\\\\\n",
       "\t member & Monday    & 267268\\\\\n",
       "\t casual & Tuesday   & 145027\\\\\n",
       "\t member & Tuesday   & 284289\\\\\n",
       "\t casual & Wednesday & 158112\\\\\n",
       "\t member & Wednesday & 305024\\\\\n",
       "\t casual & Thursday  & 166069\\\\\n",
       "\t member & Thursday  & 300381\\\\\n",
       "\t casual & Friday    & 208180\\\\\n",
       "\t member & Friday    & 306298\\\\\n",
       "\t casual & Saturday  & 334498\\\\\n",
       "\t member & Saturday  & 323028\\\\\n",
       "\t casual & Sunday    & 261730\\\\\n",
       "\t member & Sunday    & 265226\\\\\n",
       "\\end{tabular}\n"
      ],
      "text/markdown": [
       "\n",
       "A tibble: 14 × 3\n",
       "\n",
       "| member_casual &lt;fct&gt; | day_of_week &lt;ord&gt; | number_of_ride &lt;int&gt; |\n",
       "|---|---|---|\n",
       "| casual | Monday    | 150828 |\n",
       "| member | Monday    | 267268 |\n",
       "| casual | Tuesday   | 145027 |\n",
       "| member | Tuesday   | 284289 |\n",
       "| casual | Wednesday | 158112 |\n",
       "| member | Wednesday | 305024 |\n",
       "| casual | Thursday  | 166069 |\n",
       "| member | Thursday  | 300381 |\n",
       "| casual | Friday    | 208180 |\n",
       "| member | Friday    | 306298 |\n",
       "| casual | Saturday  | 334498 |\n",
       "| member | Saturday  | 323028 |\n",
       "| casual | Sunday    | 261730 |\n",
       "| member | Sunday    | 265226 |\n",
       "\n"
      ],
      "text/plain": [
       "   member_casual day_of_week number_of_ride\n",
       "1  casual        Monday      150828        \n",
       "2  member        Monday      267268        \n",
       "3  casual        Tuesday     145027        \n",
       "4  member        Tuesday     284289        \n",
       "5  casual        Wednesday   158112        \n",
       "6  member        Wednesday   305024        \n",
       "7  casual        Thursday    166069        \n",
       "8  member        Thursday    300381        \n",
       "9  casual        Friday      208180        \n",
       "10 member        Friday      306298        \n",
       "11 casual        Saturday    334498        \n",
       "12 member        Saturday    323028        \n",
       "13 casual        Sunday      261730        \n",
       "14 member        Sunday      265226        "
      ]
     },
     "metadata": {},
     "output_type": "display_data"
    }
   ],
   "source": [
    "#Number of ride between casual and member riders for each day of the week\n",
    "all_tripdata_v3 %>%\n",
    "    group_by(member_casual, day_of_week) %>%\n",
    "    summarise(number_of_ride = n(), .groups = 'drop') %>%\n",
    "    arrange(day_of_week)\n"
   ]
  },
  {
   "cell_type": "markdown",
   "id": "92d52498",
   "metadata": {
    "papermill": {
     "duration": 0.056492,
     "end_time": "2022-01-17T20:46:54.435355",
     "exception": false,
     "start_time": "2022-01-17T20:46:54.378863",
     "status": "completed"
    },
    "tags": []
   },
   "source": [
    "**Month of year analysis**"
   ]
  },
  {
   "cell_type": "code",
   "execution_count": 23,
   "id": "c8849f37",
   "metadata": {
    "execution": {
     "iopub.execute_input": "2022-01-17T20:46:54.553514Z",
     "iopub.status.busy": "2022-01-17T20:46:54.552052Z",
     "iopub.status.idle": "2022-01-17T20:46:54.625153Z",
     "shell.execute_reply": "2022-01-17T20:46:54.623712Z"
    },
    "papermill": {
     "duration": 0.133627,
     "end_time": "2022-01-17T20:46:54.625360",
     "exception": false,
     "start_time": "2022-01-17T20:46:54.491733",
     "status": "completed"
    },
    "tags": []
   },
   "outputs": [],
   "source": [
    "#Assign the correct order to each month of the year\n",
    "all_tripdata_v3$month <-\n",
    "    ordered(all_tripdata_v3$month, levels = c('January', 'February', 'March', 'April', 'May', 'June', 'July', 'August', 'September', 'October', 'November', 'December'))"
   ]
  },
  {
   "cell_type": "code",
   "execution_count": 24,
   "id": "a03fd6f7",
   "metadata": {
    "execution": {
     "iopub.execute_input": "2022-01-17T20:46:54.757661Z",
     "iopub.status.busy": "2022-01-17T20:46:54.751967Z",
     "iopub.status.idle": "2022-01-17T20:46:55.581404Z",
     "shell.execute_reply": "2022-01-17T20:46:55.579351Z"
    },
    "papermill": {
     "duration": 0.89957,
     "end_time": "2022-01-17T20:46:55.581591",
     "exception": false,
     "start_time": "2022-01-17T20:46:54.682021",
     "status": "completed"
    },
    "tags": []
   },
   "outputs": [
    {
     "data": {
      "text/html": [
       "<table class=\"dataframe\">\n",
       "<caption>A tibble: 24 × 3</caption>\n",
       "<thead>\n",
       "\t<tr><th scope=col>member_casual</th><th scope=col>month</th><th scope=col>average_ride_length</th></tr>\n",
       "\t<tr><th scope=col>&lt;fct&gt;</th><th scope=col>&lt;ord&gt;</th><th scope=col>&lt;drtn&gt;</th></tr>\n",
       "</thead>\n",
       "<tbody>\n",
       "\t<tr><td>casual</td><td>January  </td><td>21.38216 mins</td></tr>\n",
       "\t<tr><td>member</td><td>January  </td><td>12.68168 mins</td></tr>\n",
       "\t<tr><td>casual</td><td>February </td><td>30.45047 mins</td></tr>\n",
       "\t<tr><td>member</td><td>February </td><td>15.80492 mins</td></tr>\n",
       "\t<tr><td>casual</td><td>March    </td><td>31.41941 mins</td></tr>\n",
       "\t<tr><td>member</td><td>March    </td><td>13.86494 mins</td></tr>\n",
       "\t<tr><td>casual</td><td>April    </td><td>39.53965 mins</td></tr>\n",
       "\t<tr><td>member</td><td>April    </td><td>18.03458 mins</td></tr>\n",
       "\t<tr><td>casual</td><td>May      </td><td>44.50288 mins</td></tr>\n",
       "\t<tr><td>member</td><td>May      </td><td>19.34363 mins</td></tr>\n",
       "\t<tr><td>casual</td><td>June     </td><td>42.41681 mins</td></tr>\n",
       "\t<tr><td>member</td><td>June     </td><td>18.29596 mins</td></tr>\n",
       "\t<tr><td>casual</td><td>July     </td><td>44.65617 mins</td></tr>\n",
       "\t<tr><td>member</td><td>July     </td><td>17.37479 mins</td></tr>\n",
       "\t<tr><td>casual</td><td>August   </td><td>37.55889 mins</td></tr>\n",
       "\t<tr><td>member</td><td>August   </td><td>16.26916 mins</td></tr>\n",
       "\t<tr><td>casual</td><td>September</td><td>32.09441 mins</td></tr>\n",
       "\t<tr><td>member</td><td>September</td><td>15.01874 mins</td></tr>\n",
       "\t<tr><td>casual</td><td>October  </td><td>26.98892 mins</td></tr>\n",
       "\t<tr><td>member</td><td>October  </td><td>13.71243 mins</td></tr>\n",
       "\t<tr><td>casual</td><td>November </td><td>27.83569 mins</td></tr>\n",
       "\t<tr><td>member</td><td>November </td><td>13.41432 mins</td></tr>\n",
       "\t<tr><td>casual</td><td>December </td><td>22.75687 mins</td></tr>\n",
       "\t<tr><td>member</td><td>December </td><td>12.57118 mins</td></tr>\n",
       "</tbody>\n",
       "</table>\n"
      ],
      "text/latex": [
       "A tibble: 24 × 3\n",
       "\\begin{tabular}{lll}\n",
       " member\\_casual & month & average\\_ride\\_length\\\\\n",
       " <fct> & <ord> & <drtn>\\\\\n",
       "\\hline\n",
       "\t casual & January   & 21.38216 mins\\\\\n",
       "\t member & January   & 12.68168 mins\\\\\n",
       "\t casual & February  & 30.45047 mins\\\\\n",
       "\t member & February  & 15.80492 mins\\\\\n",
       "\t casual & March     & 31.41941 mins\\\\\n",
       "\t member & March     & 13.86494 mins\\\\\n",
       "\t casual & April     & 39.53965 mins\\\\\n",
       "\t member & April     & 18.03458 mins\\\\\n",
       "\t casual & May       & 44.50288 mins\\\\\n",
       "\t member & May       & 19.34363 mins\\\\\n",
       "\t casual & June      & 42.41681 mins\\\\\n",
       "\t member & June      & 18.29596 mins\\\\\n",
       "\t casual & July      & 44.65617 mins\\\\\n",
       "\t member & July      & 17.37479 mins\\\\\n",
       "\t casual & August    & 37.55889 mins\\\\\n",
       "\t member & August    & 16.26916 mins\\\\\n",
       "\t casual & September & 32.09441 mins\\\\\n",
       "\t member & September & 15.01874 mins\\\\\n",
       "\t casual & October   & 26.98892 mins\\\\\n",
       "\t member & October   & 13.71243 mins\\\\\n",
       "\t casual & November  & 27.83569 mins\\\\\n",
       "\t member & November  & 13.41432 mins\\\\\n",
       "\t casual & December  & 22.75687 mins\\\\\n",
       "\t member & December  & 12.57118 mins\\\\\n",
       "\\end{tabular}\n"
      ],
      "text/markdown": [
       "\n",
       "A tibble: 24 × 3\n",
       "\n",
       "| member_casual &lt;fct&gt; | month &lt;ord&gt; | average_ride_length &lt;drtn&gt; |\n",
       "|---|---|---|\n",
       "| casual | January   | 21.38216 mins |\n",
       "| member | January   | 12.68168 mins |\n",
       "| casual | February  | 30.45047 mins |\n",
       "| member | February  | 15.80492 mins |\n",
       "| casual | March     | 31.41941 mins |\n",
       "| member | March     | 13.86494 mins |\n",
       "| casual | April     | 39.53965 mins |\n",
       "| member | April     | 18.03458 mins |\n",
       "| casual | May       | 44.50288 mins |\n",
       "| member | May       | 19.34363 mins |\n",
       "| casual | June      | 42.41681 mins |\n",
       "| member | June      | 18.29596 mins |\n",
       "| casual | July      | 44.65617 mins |\n",
       "| member | July      | 17.37479 mins |\n",
       "| casual | August    | 37.55889 mins |\n",
       "| member | August    | 16.26916 mins |\n",
       "| casual | September | 32.09441 mins |\n",
       "| member | September | 15.01874 mins |\n",
       "| casual | October   | 26.98892 mins |\n",
       "| member | October   | 13.71243 mins |\n",
       "| casual | November  | 27.83569 mins |\n",
       "| member | November  | 13.41432 mins |\n",
       "| casual | December  | 22.75687 mins |\n",
       "| member | December  | 12.57118 mins |\n",
       "\n"
      ],
      "text/plain": [
       "   member_casual month     average_ride_length\n",
       "1  casual        January   21.38216 mins      \n",
       "2  member        January   12.68168 mins      \n",
       "3  casual        February  30.45047 mins      \n",
       "4  member        February  15.80492 mins      \n",
       "5  casual        March     31.41941 mins      \n",
       "6  member        March     13.86494 mins      \n",
       "7  casual        April     39.53965 mins      \n",
       "8  member        April     18.03458 mins      \n",
       "9  casual        May       44.50288 mins      \n",
       "10 member        May       19.34363 mins      \n",
       "11 casual        June      42.41681 mins      \n",
       "12 member        June      18.29596 mins      \n",
       "13 casual        July      44.65617 mins      \n",
       "14 member        July      17.37479 mins      \n",
       "15 casual        August    37.55889 mins      \n",
       "16 member        August    16.26916 mins      \n",
       "17 casual        September 32.09441 mins      \n",
       "18 member        September 15.01874 mins      \n",
       "19 casual        October   26.98892 mins      \n",
       "20 member        October   13.71243 mins      \n",
       "21 casual        November  27.83569 mins      \n",
       "22 member        November  13.41432 mins      \n",
       "23 casual        December  22.75687 mins      \n",
       "24 member        December  12.57118 mins      "
      ]
     },
     "metadata": {},
     "output_type": "display_data"
    }
   ],
   "source": [
    "#Average ride length between casual and member riders for each month of the year\n",
    "all_tripdata_v3 %>%\n",
    "    group_by(member_casual, month) %>%\n",
    "    summarise(average_ride_length = mean(ride_length), .groups = 'drop') %>%\n",
    "    arrange(month)"
   ]
  },
  {
   "cell_type": "code",
   "execution_count": 25,
   "id": "4a58aa48",
   "metadata": {
    "execution": {
     "iopub.execute_input": "2022-01-17T20:46:55.702749Z",
     "iopub.status.busy": "2022-01-17T20:46:55.700794Z",
     "iopub.status.idle": "2022-01-17T20:46:56.186928Z",
     "shell.execute_reply": "2022-01-17T20:46:56.185203Z"
    },
    "papermill": {
     "duration": 0.54777,
     "end_time": "2022-01-17T20:46:56.187077",
     "exception": false,
     "start_time": "2022-01-17T20:46:55.639307",
     "status": "completed"
    },
    "tags": []
   },
   "outputs": [
    {
     "data": {
      "text/html": [
       "<table class=\"dataframe\">\n",
       "<caption>A tibble: 24 × 3</caption>\n",
       "<thead>\n",
       "\t<tr><th scope=col>member_casual</th><th scope=col>month</th><th scope=col>median_ride_length</th></tr>\n",
       "\t<tr><th scope=col>&lt;fct&gt;</th><th scope=col>&lt;ord&gt;</th><th scope=col>&lt;drtn&gt;</th></tr>\n",
       "</thead>\n",
       "<tbody>\n",
       "\t<tr><td>casual</td><td>January  </td><td>12.0 mins</td></tr>\n",
       "\t<tr><td>member</td><td>January  </td><td> 8.7 mins</td></tr>\n",
       "\t<tr><td>casual</td><td>February </td><td>16.0 mins</td></tr>\n",
       "\t<tr><td>member</td><td>February </td><td>10.0 mins</td></tr>\n",
       "\t<tr><td>casual</td><td>March    </td><td>19.0 mins</td></tr>\n",
       "\t<tr><td>member</td><td>March    </td><td>10.0 mins</td></tr>\n",
       "\t<tr><td>casual</td><td>April    </td><td>25.0 mins</td></tr>\n",
       "\t<tr><td>member</td><td>April    </td><td>14.0 mins</td></tr>\n",
       "\t<tr><td>casual</td><td>May      </td><td>27.0 mins</td></tr>\n",
       "\t<tr><td>member</td><td>May      </td><td>15.0 mins</td></tr>\n",
       "\t<tr><td>casual</td><td>June     </td><td>25.0 mins</td></tr>\n",
       "\t<tr><td>member</td><td>June     </td><td>14.0 mins</td></tr>\n",
       "\t<tr><td>casual</td><td>July     </td><td>25.0 mins</td></tr>\n",
       "\t<tr><td>member</td><td>July     </td><td>13.0 mins</td></tr>\n",
       "\t<tr><td>casual</td><td>August   </td><td>22.0 mins</td></tr>\n",
       "\t<tr><td>member</td><td>August   </td><td>12.0 mins</td></tr>\n",
       "\t<tr><td>casual</td><td>September</td><td>19.0 mins</td></tr>\n",
       "\t<tr><td>member</td><td>September</td><td>11.0 mins</td></tr>\n",
       "\t<tr><td>casual</td><td>October  </td><td>16.0 mins</td></tr>\n",
       "\t<tr><td>member</td><td>October  </td><td> 9.9 mins</td></tr>\n",
       "\t<tr><td>casual</td><td>November </td><td>16.0 mins</td></tr>\n",
       "\t<tr><td>member</td><td>November </td><td> 9.6 mins</td></tr>\n",
       "\t<tr><td>casual</td><td>December </td><td>13.0 mins</td></tr>\n",
       "\t<tr><td>member</td><td>December </td><td> 9.0 mins</td></tr>\n",
       "</tbody>\n",
       "</table>\n"
      ],
      "text/latex": [
       "A tibble: 24 × 3\n",
       "\\begin{tabular}{lll}\n",
       " member\\_casual & month & median\\_ride\\_length\\\\\n",
       " <fct> & <ord> & <drtn>\\\\\n",
       "\\hline\n",
       "\t casual & January   & 12.0 mins\\\\\n",
       "\t member & January   &  8.7 mins\\\\\n",
       "\t casual & February  & 16.0 mins\\\\\n",
       "\t member & February  & 10.0 mins\\\\\n",
       "\t casual & March     & 19.0 mins\\\\\n",
       "\t member & March     & 10.0 mins\\\\\n",
       "\t casual & April     & 25.0 mins\\\\\n",
       "\t member & April     & 14.0 mins\\\\\n",
       "\t casual & May       & 27.0 mins\\\\\n",
       "\t member & May       & 15.0 mins\\\\\n",
       "\t casual & June      & 25.0 mins\\\\\n",
       "\t member & June      & 14.0 mins\\\\\n",
       "\t casual & July      & 25.0 mins\\\\\n",
       "\t member & July      & 13.0 mins\\\\\n",
       "\t casual & August    & 22.0 mins\\\\\n",
       "\t member & August    & 12.0 mins\\\\\n",
       "\t casual & September & 19.0 mins\\\\\n",
       "\t member & September & 11.0 mins\\\\\n",
       "\t casual & October   & 16.0 mins\\\\\n",
       "\t member & October   &  9.9 mins\\\\\n",
       "\t casual & November  & 16.0 mins\\\\\n",
       "\t member & November  &  9.6 mins\\\\\n",
       "\t casual & December  & 13.0 mins\\\\\n",
       "\t member & December  &  9.0 mins\\\\\n",
       "\\end{tabular}\n"
      ],
      "text/markdown": [
       "\n",
       "A tibble: 24 × 3\n",
       "\n",
       "| member_casual &lt;fct&gt; | month &lt;ord&gt; | median_ride_length &lt;drtn&gt; |\n",
       "|---|---|---|\n",
       "| casual | January   | 12.0 mins |\n",
       "| member | January   |  8.7 mins |\n",
       "| casual | February  | 16.0 mins |\n",
       "| member | February  | 10.0 mins |\n",
       "| casual | March     | 19.0 mins |\n",
       "| member | March     | 10.0 mins |\n",
       "| casual | April     | 25.0 mins |\n",
       "| member | April     | 14.0 mins |\n",
       "| casual | May       | 27.0 mins |\n",
       "| member | May       | 15.0 mins |\n",
       "| casual | June      | 25.0 mins |\n",
       "| member | June      | 14.0 mins |\n",
       "| casual | July      | 25.0 mins |\n",
       "| member | July      | 13.0 mins |\n",
       "| casual | August    | 22.0 mins |\n",
       "| member | August    | 12.0 mins |\n",
       "| casual | September | 19.0 mins |\n",
       "| member | September | 11.0 mins |\n",
       "| casual | October   | 16.0 mins |\n",
       "| member | October   |  9.9 mins |\n",
       "| casual | November  | 16.0 mins |\n",
       "| member | November  |  9.6 mins |\n",
       "| casual | December  | 13.0 mins |\n",
       "| member | December  |  9.0 mins |\n",
       "\n"
      ],
      "text/plain": [
       "   member_casual month     median_ride_length\n",
       "1  casual        January   12.0 mins         \n",
       "2  member        January    8.7 mins         \n",
       "3  casual        February  16.0 mins         \n",
       "4  member        February  10.0 mins         \n",
       "5  casual        March     19.0 mins         \n",
       "6  member        March     10.0 mins         \n",
       "7  casual        April     25.0 mins         \n",
       "8  member        April     14.0 mins         \n",
       "9  casual        May       27.0 mins         \n",
       "10 member        May       15.0 mins         \n",
       "11 casual        June      25.0 mins         \n",
       "12 member        June      14.0 mins         \n",
       "13 casual        July      25.0 mins         \n",
       "14 member        July      13.0 mins         \n",
       "15 casual        August    22.0 mins         \n",
       "16 member        August    12.0 mins         \n",
       "17 casual        September 19.0 mins         \n",
       "18 member        September 11.0 mins         \n",
       "19 casual        October   16.0 mins         \n",
       "20 member        October    9.9 mins         \n",
       "21 casual        November  16.0 mins         \n",
       "22 member        November   9.6 mins         \n",
       "23 casual        December  13.0 mins         \n",
       "24 member        December   9.0 mins         "
      ]
     },
     "metadata": {},
     "output_type": "display_data"
    }
   ],
   "source": [
    "#Median ride length between casual and member riders for each month of the year\n",
    "all_tripdata_v3 %>%\n",
    "    group_by(member_casual, month) %>%\n",
    "    summarise(median_ride_length = median(ride_length), .groups = 'drop') %>%\n",
    "    arrange(month)"
   ]
  },
  {
   "cell_type": "code",
   "execution_count": 26,
   "id": "75d3aafe",
   "metadata": {
    "execution": {
     "iopub.execute_input": "2022-01-17T20:46:56.308830Z",
     "iopub.status.busy": "2022-01-17T20:46:56.307419Z",
     "iopub.status.idle": "2022-01-17T20:46:56.434650Z",
     "shell.execute_reply": "2022-01-17T20:46:56.433206Z"
    },
    "papermill": {
     "duration": 0.189604,
     "end_time": "2022-01-17T20:46:56.434823",
     "exception": false,
     "start_time": "2022-01-17T20:46:56.245219",
     "status": "completed"
    },
    "tags": []
   },
   "outputs": [
    {
     "data": {
      "text/html": [
       "<table class=\"dataframe\">\n",
       "<caption>A tibble: 24 × 3</caption>\n",
       "<thead>\n",
       "\t<tr><th scope=col>member_casual</th><th scope=col>month</th><th scope=col>number_of_ride</th></tr>\n",
       "\t<tr><th scope=col>&lt;fct&gt;</th><th scope=col>&lt;ord&gt;</th><th scope=col>&lt;int&gt;</th></tr>\n",
       "</thead>\n",
       "<tbody>\n",
       "\t<tr><td>casual</td><td>January  </td><td> 18090</td></tr>\n",
       "\t<tr><td>member</td><td>January  </td><td> 78701</td></tr>\n",
       "\t<tr><td>casual</td><td>February </td><td> 10073</td></tr>\n",
       "\t<tr><td>member</td><td>February </td><td> 39429</td></tr>\n",
       "\t<tr><td>casual</td><td>March    </td><td> 83876</td></tr>\n",
       "\t<tr><td>member</td><td>March    </td><td>144446</td></tr>\n",
       "\t<tr><td>casual</td><td>April    </td><td> 23504</td></tr>\n",
       "\t<tr><td>member</td><td>April    </td><td> 61092</td></tr>\n",
       "\t<tr><td>casual</td><td>May      </td><td> 86661</td></tr>\n",
       "\t<tr><td>member</td><td>May      </td><td>113230</td></tr>\n",
       "\t<tr><td>casual</td><td>June     </td><td>154207</td></tr>\n",
       "\t<tr><td>member</td><td>June     </td><td>187946</td></tr>\n",
       "\t<tr><td>casual</td><td>July     </td><td>268003</td></tr>\n",
       "\t<tr><td>member</td><td>July     </td><td>280961</td></tr>\n",
       "\t<tr><td>casual</td><td>August   </td><td>288134</td></tr>\n",
       "\t<tr><td>member</td><td>August   </td><td>330856</td></tr>\n",
       "\t<tr><td>casual</td><td>September</td><td>229779</td></tr>\n",
       "\t<tr><td>member</td><td>September</td><td>300680</td></tr>\n",
       "\t<tr><td>casual</td><td>October  </td><td>144351</td></tr>\n",
       "\t<tr><td>member</td><td>October  </td><td>242147</td></tr>\n",
       "\t<tr><td>casual</td><td>November </td><td> 87813</td></tr>\n",
       "\t<tr><td>member</td><td>November </td><td>170901</td></tr>\n",
       "\t<tr><td>casual</td><td>December </td><td> 29953</td></tr>\n",
       "\t<tr><td>member</td><td>December </td><td>101125</td></tr>\n",
       "</tbody>\n",
       "</table>\n"
      ],
      "text/latex": [
       "A tibble: 24 × 3\n",
       "\\begin{tabular}{lll}\n",
       " member\\_casual & month & number\\_of\\_ride\\\\\n",
       " <fct> & <ord> & <int>\\\\\n",
       "\\hline\n",
       "\t casual & January   &  18090\\\\\n",
       "\t member & January   &  78701\\\\\n",
       "\t casual & February  &  10073\\\\\n",
       "\t member & February  &  39429\\\\\n",
       "\t casual & March     &  83876\\\\\n",
       "\t member & March     & 144446\\\\\n",
       "\t casual & April     &  23504\\\\\n",
       "\t member & April     &  61092\\\\\n",
       "\t casual & May       &  86661\\\\\n",
       "\t member & May       & 113230\\\\\n",
       "\t casual & June      & 154207\\\\\n",
       "\t member & June      & 187946\\\\\n",
       "\t casual & July      & 268003\\\\\n",
       "\t member & July      & 280961\\\\\n",
       "\t casual & August    & 288134\\\\\n",
       "\t member & August    & 330856\\\\\n",
       "\t casual & September & 229779\\\\\n",
       "\t member & September & 300680\\\\\n",
       "\t casual & October   & 144351\\\\\n",
       "\t member & October   & 242147\\\\\n",
       "\t casual & November  &  87813\\\\\n",
       "\t member & November  & 170901\\\\\n",
       "\t casual & December  &  29953\\\\\n",
       "\t member & December  & 101125\\\\\n",
       "\\end{tabular}\n"
      ],
      "text/markdown": [
       "\n",
       "A tibble: 24 × 3\n",
       "\n",
       "| member_casual &lt;fct&gt; | month &lt;ord&gt; | number_of_ride &lt;int&gt; |\n",
       "|---|---|---|\n",
       "| casual | January   |  18090 |\n",
       "| member | January   |  78701 |\n",
       "| casual | February  |  10073 |\n",
       "| member | February  |  39429 |\n",
       "| casual | March     |  83876 |\n",
       "| member | March     | 144446 |\n",
       "| casual | April     |  23504 |\n",
       "| member | April     |  61092 |\n",
       "| casual | May       |  86661 |\n",
       "| member | May       | 113230 |\n",
       "| casual | June      | 154207 |\n",
       "| member | June      | 187946 |\n",
       "| casual | July      | 268003 |\n",
       "| member | July      | 280961 |\n",
       "| casual | August    | 288134 |\n",
       "| member | August    | 330856 |\n",
       "| casual | September | 229779 |\n",
       "| member | September | 300680 |\n",
       "| casual | October   | 144351 |\n",
       "| member | October   | 242147 |\n",
       "| casual | November  |  87813 |\n",
       "| member | November  | 170901 |\n",
       "| casual | December  |  29953 |\n",
       "| member | December  | 101125 |\n",
       "\n"
      ],
      "text/plain": [
       "   member_casual month     number_of_ride\n",
       "1  casual        January    18090        \n",
       "2  member        January    78701        \n",
       "3  casual        February   10073        \n",
       "4  member        February   39429        \n",
       "5  casual        March      83876        \n",
       "6  member        March     144446        \n",
       "7  casual        April      23504        \n",
       "8  member        April      61092        \n",
       "9  casual        May        86661        \n",
       "10 member        May       113230        \n",
       "11 casual        June      154207        \n",
       "12 member        June      187946        \n",
       "13 casual        July      268003        \n",
       "14 member        July      280961        \n",
       "15 casual        August    288134        \n",
       "16 member        August    330856        \n",
       "17 casual        September 229779        \n",
       "18 member        September 300680        \n",
       "19 casual        October   144351        \n",
       "20 member        October   242147        \n",
       "21 casual        November   87813        \n",
       "22 member        November  170901        \n",
       "23 casual        December   29953        \n",
       "24 member        December  101125        "
      ]
     },
     "metadata": {},
     "output_type": "display_data"
    }
   ],
   "source": [
    "#Number of ride between casual and member riders for each month of the year\n",
    "all_tripdata_v3 %>%\n",
    "    group_by(member_casual, month) %>%\n",
    "    summarise(number_of_ride = n(), .groups = 'drop') %>%\n",
    "    arrange(month)"
   ]
  },
  {
   "cell_type": "markdown",
   "id": "f6675588",
   "metadata": {
    "papermill": {
     "duration": 0.059859,
     "end_time": "2022-01-17T20:46:56.554232",
     "exception": false,
     "start_time": "2022-01-17T20:46:56.494373",
     "status": "completed"
    },
    "tags": []
   },
   "source": [
    "**Bike types analysis**"
   ]
  },
  {
   "cell_type": "code",
   "execution_count": 27,
   "id": "45c8ce80",
   "metadata": {
    "execution": {
     "iopub.execute_input": "2022-01-17T20:46:56.679033Z",
     "iopub.status.busy": "2022-01-17T20:46:56.677405Z",
     "iopub.status.idle": "2022-01-17T20:46:56.794909Z",
     "shell.execute_reply": "2022-01-17T20:46:56.793431Z"
    },
    "papermill": {
     "duration": 0.181232,
     "end_time": "2022-01-17T20:46:56.795056",
     "exception": false,
     "start_time": "2022-01-17T20:46:56.613824",
     "status": "completed"
    },
    "tags": []
   },
   "outputs": [
    {
     "data": {
      "text/html": [
       "<table class=\"dataframe\">\n",
       "<caption>A tibble: 6 × 3</caption>\n",
       "<thead>\n",
       "\t<tr><th scope=col>rideable_type</th><th scope=col>member_casual</th><th scope=col>number_of_ride</th></tr>\n",
       "\t<tr><th scope=col>&lt;fct&gt;</th><th scope=col>&lt;fct&gt;</th><th scope=col>&lt;int&gt;</th></tr>\n",
       "</thead>\n",
       "<tbody>\n",
       "\t<tr><td>docked_bike  </td><td>casual</td><td>1110919</td></tr>\n",
       "\t<tr><td>docked_bike  </td><td>member</td><td>1434285</td></tr>\n",
       "\t<tr><td>electric_bike</td><td>casual</td><td> 242860</td></tr>\n",
       "\t<tr><td>electric_bike</td><td>member</td><td> 368259</td></tr>\n",
       "\t<tr><td>classic_bike </td><td>casual</td><td>  70665</td></tr>\n",
       "\t<tr><td>classic_bike </td><td>member</td><td> 248970</td></tr>\n",
       "</tbody>\n",
       "</table>\n"
      ],
      "text/latex": [
       "A tibble: 6 × 3\n",
       "\\begin{tabular}{lll}\n",
       " rideable\\_type & member\\_casual & number\\_of\\_ride\\\\\n",
       " <fct> & <fct> & <int>\\\\\n",
       "\\hline\n",
       "\t docked\\_bike   & casual & 1110919\\\\\n",
       "\t docked\\_bike   & member & 1434285\\\\\n",
       "\t electric\\_bike & casual &  242860\\\\\n",
       "\t electric\\_bike & member &  368259\\\\\n",
       "\t classic\\_bike  & casual &   70665\\\\\n",
       "\t classic\\_bike  & member &  248970\\\\\n",
       "\\end{tabular}\n"
      ],
      "text/markdown": [
       "\n",
       "A tibble: 6 × 3\n",
       "\n",
       "| rideable_type &lt;fct&gt; | member_casual &lt;fct&gt; | number_of_ride &lt;int&gt; |\n",
       "|---|---|---|\n",
       "| docked_bike   | casual | 1110919 |\n",
       "| docked_bike   | member | 1434285 |\n",
       "| electric_bike | casual |  242860 |\n",
       "| electric_bike | member |  368259 |\n",
       "| classic_bike  | casual |   70665 |\n",
       "| classic_bike  | member |  248970 |\n",
       "\n"
      ],
      "text/plain": [
       "  rideable_type member_casual number_of_ride\n",
       "1 docked_bike   casual        1110919       \n",
       "2 docked_bike   member        1434285       \n",
       "3 electric_bike casual         242860       \n",
       "4 electric_bike member         368259       \n",
       "5 classic_bike  casual          70665       \n",
       "6 classic_bike  member         248970       "
      ]
     },
     "metadata": {},
     "output_type": "display_data"
    }
   ],
   "source": [
    "#Comparing bike type preferences between casual and member riders\n",
    "all_tripdata_v3 %>%\n",
    "    group_by(rideable_type, member_casual) %>%\n",
    "    summarise(number_of_ride = n(), .groups = 'drop')"
   ]
  },
  {
   "cell_type": "code",
   "execution_count": 28,
   "id": "0ccf78b4",
   "metadata": {
    "execution": {
     "iopub.execute_input": "2022-01-17T20:46:56.922222Z",
     "iopub.status.busy": "2022-01-17T20:46:56.920807Z",
     "iopub.status.idle": "2022-01-17T20:46:57.726230Z",
     "shell.execute_reply": "2022-01-17T20:46:57.724406Z"
    },
    "papermill": {
     "duration": 0.870553,
     "end_time": "2022-01-17T20:46:57.726378",
     "exception": false,
     "start_time": "2022-01-17T20:46:56.855825",
     "status": "completed"
    },
    "tags": []
   },
   "outputs": [
    {
     "data": {
      "text/html": [
       "<table class=\"dataframe\">\n",
       "<caption>A tibble: 14 × 3</caption>\n",
       "<thead>\n",
       "\t<tr><th scope=col>member_casual</th><th scope=col>day_of_week</th><th scope=col>number_of_ride</th></tr>\n",
       "\t<tr><th scope=col>&lt;fct&gt;</th><th scope=col>&lt;ord&gt;</th><th scope=col>&lt;int&gt;</th></tr>\n",
       "</thead>\n",
       "<tbody>\n",
       "\t<tr><td>casual</td><td>Monday   </td><td>114321</td></tr>\n",
       "\t<tr><td>member</td><td>Monday   </td><td>181528</td></tr>\n",
       "\t<tr><td>casual</td><td>Tuesday  </td><td>109028</td></tr>\n",
       "\t<tr><td>member</td><td>Tuesday  </td><td>194990</td></tr>\n",
       "\t<tr><td>casual</td><td>Wednesday</td><td>119620</td></tr>\n",
       "\t<tr><td>member</td><td>Wednesday</td><td>211302</td></tr>\n",
       "\t<tr><td>casual</td><td>Thursday </td><td>127900</td></tr>\n",
       "\t<tr><td>member</td><td>Thursday </td><td>211381</td></tr>\n",
       "\t<tr><td>casual</td><td>Friday   </td><td>163349</td></tr>\n",
       "\t<tr><td>member</td><td>Friday   </td><td>215441</td></tr>\n",
       "\t<tr><td>casual</td><td>Saturday </td><td>267000</td></tr>\n",
       "\t<tr><td>member</td><td>Saturday </td><td>229596</td></tr>\n",
       "\t<tr><td>casual</td><td>Sunday   </td><td>209701</td></tr>\n",
       "\t<tr><td>member</td><td>Sunday   </td><td>190047</td></tr>\n",
       "</tbody>\n",
       "</table>\n"
      ],
      "text/latex": [
       "A tibble: 14 × 3\n",
       "\\begin{tabular}{lll}\n",
       " member\\_casual & day\\_of\\_week & number\\_of\\_ride\\\\\n",
       " <fct> & <ord> & <int>\\\\\n",
       "\\hline\n",
       "\t casual & Monday    & 114321\\\\\n",
       "\t member & Monday    & 181528\\\\\n",
       "\t casual & Tuesday   & 109028\\\\\n",
       "\t member & Tuesday   & 194990\\\\\n",
       "\t casual & Wednesday & 119620\\\\\n",
       "\t member & Wednesday & 211302\\\\\n",
       "\t casual & Thursday  & 127900\\\\\n",
       "\t member & Thursday  & 211381\\\\\n",
       "\t casual & Friday    & 163349\\\\\n",
       "\t member & Friday    & 215441\\\\\n",
       "\t casual & Saturday  & 267000\\\\\n",
       "\t member & Saturday  & 229596\\\\\n",
       "\t casual & Sunday    & 209701\\\\\n",
       "\t member & Sunday    & 190047\\\\\n",
       "\\end{tabular}\n"
      ],
      "text/markdown": [
       "\n",
       "A tibble: 14 × 3\n",
       "\n",
       "| member_casual &lt;fct&gt; | day_of_week &lt;ord&gt; | number_of_ride &lt;int&gt; |\n",
       "|---|---|---|\n",
       "| casual | Monday    | 114321 |\n",
       "| member | Monday    | 181528 |\n",
       "| casual | Tuesday   | 109028 |\n",
       "| member | Tuesday   | 194990 |\n",
       "| casual | Wednesday | 119620 |\n",
       "| member | Wednesday | 211302 |\n",
       "| casual | Thursday  | 127900 |\n",
       "| member | Thursday  | 211381 |\n",
       "| casual | Friday    | 163349 |\n",
       "| member | Friday    | 215441 |\n",
       "| casual | Saturday  | 267000 |\n",
       "| member | Saturday  | 229596 |\n",
       "| casual | Sunday    | 209701 |\n",
       "| member | Sunday    | 190047 |\n",
       "\n"
      ],
      "text/plain": [
       "   member_casual day_of_week number_of_ride\n",
       "1  casual        Monday      114321        \n",
       "2  member        Monday      181528        \n",
       "3  casual        Tuesday     109028        \n",
       "4  member        Tuesday     194990        \n",
       "5  casual        Wednesday   119620        \n",
       "6  member        Wednesday   211302        \n",
       "7  casual        Thursday    127900        \n",
       "8  member        Thursday    211381        \n",
       "9  casual        Friday      163349        \n",
       "10 member        Friday      215441        \n",
       "11 casual        Saturday    267000        \n",
       "12 member        Saturday    229596        \n",
       "13 casual        Sunday      209701        \n",
       "14 member        Sunday      190047        "
      ]
     },
     "metadata": {},
     "output_type": "display_data"
    }
   ],
   "source": [
    "# Comparing number of docked_bike ride between casual and member riders for each day of the week\n",
    "all_tripdata_v3 %>%\n",
    "    filter(rideable_type == 'docked_bike') %>%\n",
    "    group_by(member_casual, day_of_week) %>%\n",
    "    summarise(number_of_ride = n(), .groups = 'drop') %>%\n",
    "    arrange(day_of_week)"
   ]
  },
  {
   "cell_type": "markdown",
   "id": "2f357f0d",
   "metadata": {
    "papermill": {
     "duration": 0.059947,
     "end_time": "2022-01-17T20:46:57.847202",
     "exception": false,
     "start_time": "2022-01-17T20:46:57.787255",
     "status": "completed"
    },
    "tags": []
   },
   "source": [
    "**Start stations analysis**"
   ]
  },
  {
   "cell_type": "code",
   "execution_count": 29,
   "id": "b996ed6e",
   "metadata": {
    "execution": {
     "iopub.execute_input": "2022-01-17T20:46:57.973214Z",
     "iopub.status.busy": "2022-01-17T20:46:57.971361Z",
     "iopub.status.idle": "2022-01-17T20:46:58.136627Z",
     "shell.execute_reply": "2022-01-17T20:46:58.134965Z"
    },
    "papermill": {
     "duration": 0.229483,
     "end_time": "2022-01-17T20:46:58.136775",
     "exception": false,
     "start_time": "2022-01-17T20:46:57.907292",
     "status": "completed"
    },
    "tags": []
   },
   "outputs": [
    {
     "data": {
      "text/html": [
       "<table class=\"dataframe\">\n",
       "<caption>A tibble: 20 × 3</caption>\n",
       "<thead>\n",
       "\t<tr><th scope=col>start_station_name</th><th scope=col>member_casual</th><th scope=col>number_of_ride</th></tr>\n",
       "\t<tr><th scope=col>&lt;fct&gt;</th><th scope=col>&lt;fct&gt;</th><th scope=col>&lt;int&gt;</th></tr>\n",
       "</thead>\n",
       "<tbody>\n",
       "\t<tr><td><span style=white-space:pre-wrap>Streeter Dr &amp; Grand Ave     </span></td><td>casual</td><td>26153</td></tr>\n",
       "\t<tr><td><span style=white-space:pre-wrap>Lake Shore Dr &amp; Monroe St   </span></td><td>casual</td><td>20646</td></tr>\n",
       "\t<tr><td>Millennium Park             </td><td>casual</td><td>19464</td></tr>\n",
       "\t<tr><td>Theater on the Lake         </td><td>casual</td><td>14978</td></tr>\n",
       "\t<tr><td><span style=white-space:pre-wrap>Michigan Ave &amp; Oak St       </span></td><td>casual</td><td>13677</td></tr>\n",
       "\t<tr><td><span style=white-space:pre-wrap>Indiana Ave &amp; Roosevelt Rd  </span></td><td>casual</td><td>13667</td></tr>\n",
       "\t<tr><td><span style=white-space:pre-wrap>Lake Shore Dr &amp; North Blvd  </span></td><td>casual</td><td>13316</td></tr>\n",
       "\t<tr><td><span style=white-space:pre-wrap>Clark St &amp; Elm St           </span></td><td>casual</td><td>12014</td></tr>\n",
       "\t<tr><td><span style=white-space:pre-wrap>Michigan Ave &amp; Lake St      </span></td><td>casual</td><td>11755</td></tr>\n",
       "\t<tr><td>Michigan Ave &amp; Washington St</td><td>casual</td><td>10705</td></tr>\n",
       "\t<tr><td><span style=white-space:pre-wrap>Clark St &amp; Lincoln Ave      </span></td><td>casual</td><td>10202</td></tr>\n",
       "\t<tr><td><span style=white-space:pre-wrap>Wells St &amp; Concord Ln       </span></td><td>casual</td><td>10020</td></tr>\n",
       "\t<tr><td>Buckingham Fountain         </td><td>casual</td><td>10007</td></tr>\n",
       "\t<tr><td><span style=white-space:pre-wrap>Clark St &amp; Armitage Ave     </span></td><td>casual</td><td> 9915</td></tr>\n",
       "\t<tr><td>Shedd Aquarium              </td><td>casual</td><td> 9825</td></tr>\n",
       "\t<tr><td><span style=white-space:pre-wrap>Wabash Ave &amp; Grand Ave      </span></td><td>casual</td><td> 9770</td></tr>\n",
       "\t<tr><td><span style=white-space:pre-wrap>Michigan Ave &amp; 8th St       </span></td><td>casual</td><td> 9748</td></tr>\n",
       "\t<tr><td><span style=white-space:pre-wrap>Columbus Dr &amp; Randolph St   </span></td><td>casual</td><td> 9503</td></tr>\n",
       "\t<tr><td><span style=white-space:pre-wrap>Wells St &amp; Elm St           </span></td><td>casual</td><td> 9269</td></tr>\n",
       "\t<tr><td><span style=white-space:pre-wrap>Fairbanks Ct &amp; Grand Ave    </span></td><td>casual</td><td> 9030</td></tr>\n",
       "</tbody>\n",
       "</table>\n"
      ],
      "text/latex": [
       "A tibble: 20 × 3\n",
       "\\begin{tabular}{lll}\n",
       " start\\_station\\_name & member\\_casual & number\\_of\\_ride\\\\\n",
       " <fct> & <fct> & <int>\\\\\n",
       "\\hline\n",
       "\t Streeter Dr \\& Grand Ave      & casual & 26153\\\\\n",
       "\t Lake Shore Dr \\& Monroe St    & casual & 20646\\\\\n",
       "\t Millennium Park              & casual & 19464\\\\\n",
       "\t Theater on the Lake          & casual & 14978\\\\\n",
       "\t Michigan Ave \\& Oak St        & casual & 13677\\\\\n",
       "\t Indiana Ave \\& Roosevelt Rd   & casual & 13667\\\\\n",
       "\t Lake Shore Dr \\& North Blvd   & casual & 13316\\\\\n",
       "\t Clark St \\& Elm St            & casual & 12014\\\\\n",
       "\t Michigan Ave \\& Lake St       & casual & 11755\\\\\n",
       "\t Michigan Ave \\& Washington St & casual & 10705\\\\\n",
       "\t Clark St \\& Lincoln Ave       & casual & 10202\\\\\n",
       "\t Wells St \\& Concord Ln        & casual & 10020\\\\\n",
       "\t Buckingham Fountain          & casual & 10007\\\\\n",
       "\t Clark St \\& Armitage Ave      & casual &  9915\\\\\n",
       "\t Shedd Aquarium               & casual &  9825\\\\\n",
       "\t Wabash Ave \\& Grand Ave       & casual &  9770\\\\\n",
       "\t Michigan Ave \\& 8th St        & casual &  9748\\\\\n",
       "\t Columbus Dr \\& Randolph St    & casual &  9503\\\\\n",
       "\t Wells St \\& Elm St            & casual &  9269\\\\\n",
       "\t Fairbanks Ct \\& Grand Ave     & casual &  9030\\\\\n",
       "\\end{tabular}\n"
      ],
      "text/markdown": [
       "\n",
       "A tibble: 20 × 3\n",
       "\n",
       "| start_station_name &lt;fct&gt; | member_casual &lt;fct&gt; | number_of_ride &lt;int&gt; |\n",
       "|---|---|---|\n",
       "| Streeter Dr &amp; Grand Ave      | casual | 26153 |\n",
       "| Lake Shore Dr &amp; Monroe St    | casual | 20646 |\n",
       "| Millennium Park              | casual | 19464 |\n",
       "| Theater on the Lake          | casual | 14978 |\n",
       "| Michigan Ave &amp; Oak St        | casual | 13677 |\n",
       "| Indiana Ave &amp; Roosevelt Rd   | casual | 13667 |\n",
       "| Lake Shore Dr &amp; North Blvd   | casual | 13316 |\n",
       "| Clark St &amp; Elm St            | casual | 12014 |\n",
       "| Michigan Ave &amp; Lake St       | casual | 11755 |\n",
       "| Michigan Ave &amp; Washington St | casual | 10705 |\n",
       "| Clark St &amp; Lincoln Ave       | casual | 10202 |\n",
       "| Wells St &amp; Concord Ln        | casual | 10020 |\n",
       "| Buckingham Fountain          | casual | 10007 |\n",
       "| Clark St &amp; Armitage Ave      | casual |  9915 |\n",
       "| Shedd Aquarium               | casual |  9825 |\n",
       "| Wabash Ave &amp; Grand Ave       | casual |  9770 |\n",
       "| Michigan Ave &amp; 8th St        | casual |  9748 |\n",
       "| Columbus Dr &amp; Randolph St    | casual |  9503 |\n",
       "| Wells St &amp; Elm St            | casual |  9269 |\n",
       "| Fairbanks Ct &amp; Grand Ave     | casual |  9030 |\n",
       "\n"
      ],
      "text/plain": [
       "   start_station_name           member_casual number_of_ride\n",
       "1  Streeter Dr & Grand Ave      casual        26153         \n",
       "2  Lake Shore Dr & Monroe St    casual        20646         \n",
       "3  Millennium Park              casual        19464         \n",
       "4  Theater on the Lake          casual        14978         \n",
       "5  Michigan Ave & Oak St        casual        13677         \n",
       "6  Indiana Ave & Roosevelt Rd   casual        13667         \n",
       "7  Lake Shore Dr & North Blvd   casual        13316         \n",
       "8  Clark St & Elm St            casual        12014         \n",
       "9  Michigan Ave & Lake St       casual        11755         \n",
       "10 Michigan Ave & Washington St casual        10705         \n",
       "11 Clark St & Lincoln Ave       casual        10202         \n",
       "12 Wells St & Concord Ln        casual        10020         \n",
       "13 Buckingham Fountain          casual        10007         \n",
       "14 Clark St & Armitage Ave      casual         9915         \n",
       "15 Shedd Aquarium               casual         9825         \n",
       "16 Wabash Ave & Grand Ave       casual         9770         \n",
       "17 Michigan Ave & 8th St        casual         9748         \n",
       "18 Columbus Dr & Randolph St    casual         9503         \n",
       "19 Wells St & Elm St            casual         9269         \n",
       "20 Fairbanks Ct & Grand Ave     casual         9030         "
      ]
     },
     "metadata": {},
     "output_type": "display_data"
    }
   ],
   "source": [
    "#Most popular start stations for casual riders\n",
    "all_tripdata_v3 %>%\n",
    "    group_by(start_station_name, member_casual) %>%\n",
    "    summarise(number_of_ride = n(), .groups = 'drop') %>%\n",
    "    filter(start_station_name != \"\", member_casual != 'member') %>%\n",
    "    arrange(-number_of_ride) %>%\n",
    "    head(n=20)"
   ]
  },
  {
   "cell_type": "markdown",
   "id": "1eea7db3",
   "metadata": {
    "papermill": {
     "duration": 0.061164,
     "end_time": "2022-01-17T20:46:58.259101",
     "exception": false,
     "start_time": "2022-01-17T20:46:58.197937",
     "status": "completed"
    },
    "tags": []
   },
   "source": [
    "# Share Phase\n",
    "\n",
    "**On average, casual riders have longer ride length than member riders.**"
   ]
  },
  {
   "cell_type": "code",
   "execution_count": 30,
   "id": "a70bd5e0",
   "metadata": {
    "execution": {
     "iopub.execute_input": "2022-01-17T20:46:58.388951Z",
     "iopub.status.busy": "2022-01-17T20:46:58.386924Z",
     "iopub.status.idle": "2022-01-17T20:46:59.960793Z",
     "shell.execute_reply": "2022-01-17T20:46:59.959777Z"
    },
    "papermill": {
     "duration": 1.639587,
     "end_time": "2022-01-17T20:46:59.960944",
     "exception": false,
     "start_time": "2022-01-17T20:46:58.321357",
     "status": "completed"
    },
    "tags": []
   },
   "outputs": [
    {
     "name": "stderr",
     "output_type": "stream",
     "text": [
      "Don't know how to automatically pick scale for object of type difftime. Defaulting to continuous.\n",
      "\n"
     ]
    },
    {
     "data": {
      "text/html": [
       "<table class=\"dataframe\">\n",
       "<caption>A tibble: 2 × 2</caption>\n",
       "<thead>\n",
       "\t<tr><th scope=col>member_casual</th><th scope=col>average_ride_duration</th></tr>\n",
       "\t<tr><th scope=col>&lt;fct&gt;</th><th scope=col>&lt;drtn&gt;</th></tr>\n",
       "</thead>\n",
       "<tbody>\n",
       "\t<tr><td>casual</td><td>36.39475 mins</td></tr>\n",
       "\t<tr><td>member</td><td>15.60754 mins</td></tr>\n",
       "</tbody>\n",
       "</table>\n"
      ],
      "text/latex": [
       "A tibble: 2 × 2\n",
       "\\begin{tabular}{ll}\n",
       " member\\_casual & average\\_ride\\_duration\\\\\n",
       " <fct> & <drtn>\\\\\n",
       "\\hline\n",
       "\t casual & 36.39475 mins\\\\\n",
       "\t member & 15.60754 mins\\\\\n",
       "\\end{tabular}\n"
      ],
      "text/markdown": [
       "\n",
       "A tibble: 2 × 2\n",
       "\n",
       "| member_casual &lt;fct&gt; | average_ride_duration &lt;drtn&gt; |\n",
       "|---|---|\n",
       "| casual | 36.39475 mins |\n",
       "| member | 15.60754 mins |\n",
       "\n"
      ],
      "text/plain": [
       "  member_casual average_ride_duration\n",
       "1 casual        36.39475 mins        \n",
       "2 member        15.60754 mins        "
      ]
     },
     "metadata": {},
     "output_type": "display_data"
    },
    {
     "data": {
      "image/png": "[encoded data removed]"
     },
     "metadata": {
      "image/png": {
       "height": 420,
       "width": 420
      }
     },
     "output_type": "display_data"
    }
   ],
   "source": [
    "#Visualize average ride length by casual member for each day of the week\n",
    "all_tripdata_v3 %>%\n",
    "    group_by(member_casual, day_of_week) %>%\n",
    "    summarise(average_ride_duration = mean(ride_length), .groups = 'drop') %>%\n",
    "    ggplot(aes(x = day_of_week, y = average_ride_duration, fill = member_casual,)) + \n",
    "    geom_bar(position = \"dodge\", stat = \"identity\", color = \"blue\")\n",
    "\n",
    "#Average ride length between casual and member riders\n",
    "all_tripdata_v3 %>%\n",
    "    group_by(member_casual) %>%\n",
    "    summarise(average_ride_duration = mean(ride_length))"
   ]
  },
  {
   "cell_type": "markdown",
   "id": "adde6e34",
   "metadata": {
    "papermill": {
     "duration": 0.064199,
     "end_time": "2022-01-17T20:47:00.089589",
     "exception": false,
     "start_time": "2022-01-17T20:47:00.025390",
     "status": "completed"
    },
    "tags": []
   },
   "source": [
    "**Casual riders prefer riding during the weekend.**"
   ]
  },
  {
   "cell_type": "code",
   "execution_count": 31,
   "id": "6a4d2228",
   "metadata": {
    "execution": {
     "iopub.execute_input": "2022-01-17T20:47:00.225713Z",
     "iopub.status.busy": "2022-01-17T20:47:00.224181Z",
     "iopub.status.idle": "2022-01-17T20:47:00.668398Z",
     "shell.execute_reply": "2022-01-17T20:47:00.667555Z"
    },
    "papermill": {
     "duration": 0.515607,
     "end_time": "2022-01-17T20:47:00.668625",
     "exception": false,
     "start_time": "2022-01-17T20:47:00.153018",
     "status": "completed"
    },
    "tags": []
   },
   "outputs": [
    {
     "data": {
      "image/png": "[encoded data removed]"
     },
     "metadata": {
      "image/png": {
       "height": 420,
       "width": 420
      }
     },
     "output_type": "display_data"
    }
   ],
   "source": [
    "# Visualize number of ride by rider type for each day of the week\n",
    "all_tripdata_v3 %>%\n",
    "    group_by(member_casual, day_of_week) %>%\n",
    "    summarise(number_of_ride = n(), .groups = 'drop') %>%\n",
    "    ggplot(aes(x = day_of_week, y = number_of_ride, fill = member_casual)) +\n",
    "    geom_bar(position = 'dodge', stat = 'identity') "
   ]
  },
  {
   "cell_type": "markdown",
   "id": "b7baaf3f",
   "metadata": {
    "papermill": {
     "duration": 0.065666,
     "end_time": "2022-01-17T20:47:00.799456",
     "exception": false,
     "start_time": "2022-01-17T20:47:00.733790",
     "status": "completed"
    },
    "tags": []
   },
   "source": [
    "**Number of casual riders peak in summer and early fall (July-September)**"
   ]
  },
  {
   "cell_type": "code",
   "execution_count": 32,
   "id": "c1240736",
   "metadata": {
    "execution": {
     "iopub.execute_input": "2022-01-17T20:47:00.935891Z",
     "iopub.status.busy": "2022-01-17T20:47:00.934703Z",
     "iopub.status.idle": "2022-01-17T20:47:01.346419Z",
     "shell.execute_reply": "2022-01-17T20:47:01.345214Z"
    },
    "papermill": {
     "duration": 0.482002,
     "end_time": "2022-01-17T20:47:01.346610",
     "exception": false,
     "start_time": "2022-01-17T20:47:00.864608",
     "status": "completed"
    },
    "tags": []
   },
   "outputs": [
    {
     "data": {
      "image/png": "[encoded data removed]"
     },
     "metadata": {
      "image/png": {
       "height": 420,
       "width": 420
      }
     },
     "output_type": "display_data"
    }
   ],
   "source": [
    "#Visualize casual rider's number of ride for each month \n",
    "all_tripdata_v3 %>%\n",
    "    group_by(month, member_casual) %>%\n",
    "    summarise(number_of_ride = n(), .groups = 'drop') %>%\n",
    "    filter(member_casual == 'casual') %>%\n",
    "    ggplot(aes(x = month, y = number_of_ride, fill = member_casual)) +\n",
    "    geom_bar(position = 'dodge', stat = 'identity', color = 'blue') + \n",
    "    theme(axis.text.x = element_text(angle = 45))"
   ]
  },
  {
   "cell_type": "markdown",
   "id": "b9c6f72d",
   "metadata": {
    "papermill": {
     "duration": 0.065826,
     "end_time": "2022-01-17T20:47:01.479186",
     "exception": false,
     "start_time": "2022-01-17T20:47:01.413360",
     "status": "completed"
    },
    "tags": []
   },
   "source": [
    "**Number of casual riders peak from 2pm-7pm.**"
   ]
  },
  {
   "cell_type": "code",
   "execution_count": 33,
   "id": "efa7ddd6",
   "metadata": {
    "execution": {
     "iopub.execute_input": "2022-01-17T20:47:01.623174Z",
     "iopub.status.busy": "2022-01-17T20:47:01.621344Z",
     "iopub.status.idle": "2022-01-17T20:47:08.708792Z",
     "shell.execute_reply": "2022-01-17T20:47:08.706996Z"
    },
    "papermill": {
     "duration": 7.16439,
     "end_time": "2022-01-17T20:47:08.708959",
     "exception": false,
     "start_time": "2022-01-17T20:47:01.544569",
     "status": "completed"
    },
    "tags": []
   },
   "outputs": [
    {
     "data": {
      "image/png": "[encoded data removed]"
     },
     "metadata": {
      "image/png": {
       "height": 420,
       "width": 420
      }
     },
     "output_type": "display_data"
    }
   ],
   "source": [
    "#Visualize casual rider's number of ride for each hour of the day \n",
    "all_tripdata_v3 %>%\n",
    "    mutate(hour_of_day = hour(round_date(started_at, unit =\"hour\"))) %>%\n",
    "    filter(member_casual == 'casual') %>%\n",
    "    group_by(hour_of_day, member_casual) %>%\n",
    "    summarise(number_of_ride = n(), .groups = 'drop') %>%\n",
    "    arrange(-number_of_ride) %>%\n",
    "    ggplot(aes(x = hour_of_day, y = number_of_ride, fill = member_casual)) +\n",
    "    geom_bar(position = 'dodge', stat = 'identity', color ='blue') +\n",
    "    scale_x_continuous(breaks=c(0,1,2,3,4,5,6,7,8,9,10,11,12,13,14,15,16,17,18,19,20,21,22,23))"
   ]
  },
  {
   "cell_type": "markdown",
   "id": "68736ea5",
   "metadata": {
    "papermill": {
     "duration": 0.071468,
     "end_time": "2022-01-17T20:47:08.851651",
     "exception": false,
     "start_time": "2022-01-17T20:47:08.780183",
     "status": "completed"
    },
    "tags": []
   },
   "source": [
    "**Top 20 start stations for casual riders.**"
   ]
  },
  {
   "cell_type": "code",
   "execution_count": 34,
   "id": "8c8a1b7e",
   "metadata": {
    "execution": {
     "iopub.execute_input": "2022-01-17T20:47:08.994632Z",
     "iopub.status.busy": "2022-01-17T20:47:08.993390Z",
     "iopub.status.idle": "2022-01-17T20:47:09.163780Z",
     "shell.execute_reply": "2022-01-17T20:47:09.162394Z"
    },
    "papermill": {
     "duration": 0.243385,
     "end_time": "2022-01-17T20:47:09.163948",
     "exception": false,
     "start_time": "2022-01-17T20:47:08.920563",
     "status": "completed"
    },
    "tags": []
   },
   "outputs": [
    {
     "data": {
      "text/html": [
       "<table class=\"dataframe\">\n",
       "<caption>A tibble: 20 × 2</caption>\n",
       "<thead>\n",
       "\t<tr><th scope=col>start_station_name</th><th scope=col>number_of_ride</th></tr>\n",
       "\t<tr><th scope=col>&lt;fct&gt;</th><th scope=col>&lt;int&gt;</th></tr>\n",
       "</thead>\n",
       "<tbody>\n",
       "\t<tr><td><span style=white-space:pre-wrap>Streeter Dr &amp; Grand Ave     </span></td><td>26153</td></tr>\n",
       "\t<tr><td><span style=white-space:pre-wrap>Lake Shore Dr &amp; Monroe St   </span></td><td>20646</td></tr>\n",
       "\t<tr><td>Millennium Park             </td><td>19464</td></tr>\n",
       "\t<tr><td>Theater on the Lake         </td><td>14978</td></tr>\n",
       "\t<tr><td><span style=white-space:pre-wrap>Michigan Ave &amp; Oak St       </span></td><td>13677</td></tr>\n",
       "\t<tr><td><span style=white-space:pre-wrap>Indiana Ave &amp; Roosevelt Rd  </span></td><td>13667</td></tr>\n",
       "\t<tr><td><span style=white-space:pre-wrap>Lake Shore Dr &amp; North Blvd  </span></td><td>13316</td></tr>\n",
       "\t<tr><td><span style=white-space:pre-wrap>Clark St &amp; Elm St           </span></td><td>12014</td></tr>\n",
       "\t<tr><td><span style=white-space:pre-wrap>Michigan Ave &amp; Lake St      </span></td><td>11755</td></tr>\n",
       "\t<tr><td>Michigan Ave &amp; Washington St</td><td>10705</td></tr>\n",
       "\t<tr><td><span style=white-space:pre-wrap>Clark St &amp; Lincoln Ave      </span></td><td>10202</td></tr>\n",
       "\t<tr><td><span style=white-space:pre-wrap>Wells St &amp; Concord Ln       </span></td><td>10020</td></tr>\n",
       "\t<tr><td>Buckingham Fountain         </td><td>10007</td></tr>\n",
       "\t<tr><td><span style=white-space:pre-wrap>Clark St &amp; Armitage Ave     </span></td><td> 9915</td></tr>\n",
       "\t<tr><td>Shedd Aquarium              </td><td> 9825</td></tr>\n",
       "\t<tr><td><span style=white-space:pre-wrap>Wabash Ave &amp; Grand Ave      </span></td><td> 9770</td></tr>\n",
       "\t<tr><td><span style=white-space:pre-wrap>Michigan Ave &amp; 8th St       </span></td><td> 9748</td></tr>\n",
       "\t<tr><td><span style=white-space:pre-wrap>Columbus Dr &amp; Randolph St   </span></td><td> 9503</td></tr>\n",
       "\t<tr><td><span style=white-space:pre-wrap>Wells St &amp; Elm St           </span></td><td> 9269</td></tr>\n",
       "\t<tr><td><span style=white-space:pre-wrap>Fairbanks Ct &amp; Grand Ave    </span></td><td> 9030</td></tr>\n",
       "</tbody>\n",
       "</table>\n"
      ],
      "text/latex": [
       "A tibble: 20 × 2\n",
       "\\begin{tabular}{ll}\n",
       " start\\_station\\_name & number\\_of\\_ride\\\\\n",
       " <fct> & <int>\\\\\n",
       "\\hline\n",
       "\t Streeter Dr \\& Grand Ave      & 26153\\\\\n",
       "\t Lake Shore Dr \\& Monroe St    & 20646\\\\\n",
       "\t Millennium Park              & 19464\\\\\n",
       "\t Theater on the Lake          & 14978\\\\\n",
       "\t Michigan Ave \\& Oak St        & 13677\\\\\n",
       "\t Indiana Ave \\& Roosevelt Rd   & 13667\\\\\n",
       "\t Lake Shore Dr \\& North Blvd   & 13316\\\\\n",
       "\t Clark St \\& Elm St            & 12014\\\\\n",
       "\t Michigan Ave \\& Lake St       & 11755\\\\\n",
       "\t Michigan Ave \\& Washington St & 10705\\\\\n",
       "\t Clark St \\& Lincoln Ave       & 10202\\\\\n",
       "\t Wells St \\& Concord Ln        & 10020\\\\\n",
       "\t Buckingham Fountain          & 10007\\\\\n",
       "\t Clark St \\& Armitage Ave      &  9915\\\\\n",
       "\t Shedd Aquarium               &  9825\\\\\n",
       "\t Wabash Ave \\& Grand Ave       &  9770\\\\\n",
       "\t Michigan Ave \\& 8th St        &  9748\\\\\n",
       "\t Columbus Dr \\& Randolph St    &  9503\\\\\n",
       "\t Wells St \\& Elm St            &  9269\\\\\n",
       "\t Fairbanks Ct \\& Grand Ave     &  9030\\\\\n",
       "\\end{tabular}\n"
      ],
      "text/markdown": [
       "\n",
       "A tibble: 20 × 2\n",
       "\n",
       "| start_station_name &lt;fct&gt; | number_of_ride &lt;int&gt; |\n",
       "|---|---|\n",
       "| Streeter Dr &amp; Grand Ave      | 26153 |\n",
       "| Lake Shore Dr &amp; Monroe St    | 20646 |\n",
       "| Millennium Park              | 19464 |\n",
       "| Theater on the Lake          | 14978 |\n",
       "| Michigan Ave &amp; Oak St        | 13677 |\n",
       "| Indiana Ave &amp; Roosevelt Rd   | 13667 |\n",
       "| Lake Shore Dr &amp; North Blvd   | 13316 |\n",
       "| Clark St &amp; Elm St            | 12014 |\n",
       "| Michigan Ave &amp; Lake St       | 11755 |\n",
       "| Michigan Ave &amp; Washington St | 10705 |\n",
       "| Clark St &amp; Lincoln Ave       | 10202 |\n",
       "| Wells St &amp; Concord Ln        | 10020 |\n",
       "| Buckingham Fountain          | 10007 |\n",
       "| Clark St &amp; Armitage Ave      |  9915 |\n",
       "| Shedd Aquarium               |  9825 |\n",
       "| Wabash Ave &amp; Grand Ave       |  9770 |\n",
       "| Michigan Ave &amp; 8th St        |  9748 |\n",
       "| Columbus Dr &amp; Randolph St    |  9503 |\n",
       "| Wells St &amp; Elm St            |  9269 |\n",
       "| Fairbanks Ct &amp; Grand Ave     |  9030 |\n",
       "\n"
      ],
      "text/plain": [
       "   start_station_name           number_of_ride\n",
       "1  Streeter Dr & Grand Ave      26153         \n",
       "2  Lake Shore Dr & Monroe St    20646         \n",
       "3  Millennium Park              19464         \n",
       "4  Theater on the Lake          14978         \n",
       "5  Michigan Ave & Oak St        13677         \n",
       "6  Indiana Ave & Roosevelt Rd   13667         \n",
       "7  Lake Shore Dr & North Blvd   13316         \n",
       "8  Clark St & Elm St            12014         \n",
       "9  Michigan Ave & Lake St       11755         \n",
       "10 Michigan Ave & Washington St 10705         \n",
       "11 Clark St & Lincoln Ave       10202         \n",
       "12 Wells St & Concord Ln        10020         \n",
       "13 Buckingham Fountain          10007         \n",
       "14 Clark St & Armitage Ave       9915         \n",
       "15 Shedd Aquarium                9825         \n",
       "16 Wabash Ave & Grand Ave        9770         \n",
       "17 Michigan Ave & 8th St         9748         \n",
       "18 Columbus Dr & Randolph St     9503         \n",
       "19 Wells St & Elm St             9269         \n",
       "20 Fairbanks Ct & Grand Ave      9030         "
      ]
     },
     "metadata": {},
     "output_type": "display_data"
    }
   ],
   "source": [
    "# Top 20 start stations with most casual riders\n",
    "all_tripdata_v3 %>%\n",
    "    group_by(start_station_name, member_casual) %>%\n",
    "    summarise(number_of_ride = n(), .groups = 'drop') %>%\n",
    "    filter(start_station_name != \"\", member_casual != 'member') %>%\n",
    "    arrange(-number_of_ride) %>%\n",
    "    head(n=20) %>%\n",
    "    select(-member_casual)"
   ]
  },
  {
   "cell_type": "markdown",
   "id": "ba2bdde9",
   "metadata": {
    "papermill": {
     "duration": 0.068352,
     "end_time": "2022-01-17T20:47:09.302056",
     "exception": false,
     "start_time": "2022-01-17T20:47:09.233704",
     "status": "completed"
    },
    "tags": []
   },
   "source": [
    "# Act Phase\n",
    "\n",
    "**Top Three Recommendations for Marketing Strategies:**\n",
    "- Looking through the analysis, casual riders ride more during the week. Run a weekend discount program that gives casual riders x% off on their next ride if they ride over 35 minutes \n",
    "    - This discount can only be used for weekdays to encourage casual riders to ride during weekdays\n",
    "- Run a limited discount program on annual membership during peek months from July - September \n",
    "- Pilot marketing strategies on the 20 stations that have the most casual riders and expand the most successful ones to less popular stations."
   ]
  }
 ],
 "metadata": {
  "kernelspec": {
   "display_name": "R",
   "language": "R",
   "name": "ir"
  },
  "language_info": {
   "codemirror_mode": "r",
   "file_extension": ".r",
   "mimetype": "text/x-r-source",
   "name": "R",
   "pygments_lexer": "r",
   "version": "3.6.3"
  },
  "papermill": {
   "default_parameters": {},
   "duration": 295.385244,
   "end_time": "2022-01-17T20:47:09.681807",
   "environment_variables": {},
   "exception": null,
   "input_path": "__notebook__.ipynb",
   "output_path": "__notebook__.ipynb",
   "parameters": {},
   "start_time": "2022-01-17T20:42:14.296563",
   "version": "2.3.3"
  }
 },
 "nbformat": 4,
 "nbformat_minor": 5
}
